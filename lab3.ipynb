{
 "cells": [
  {
   "cell_type": "markdown",
   "id": "33404ce1-0dfa-4ce2-8bfa-a35390ca585c",
   "metadata": {},
   "source": [
    "# Imports"
   ]
  },
  {
   "cell_type": "code",
   "execution_count": 3,
   "id": "86dfd78f-4ed2-4021-94fa-61361fa50550",
   "metadata": {},
   "outputs": [],
   "source": [
    "import torch\n",
    "from torch import nn\n",
    "from torch.nn import functional as F\n",
    "import numpy as np\n",
    "import torchvision\n",
    "from torchvision import transforms\n",
    "from tqdm import tqdm\n",
    "import math\n",
    "import sys\n",
    "import os\n",
    "import matplotlib.pyplot as plt"
   ]
  },
  {
   "cell_type": "code",
   "execution_count": 4,
   "id": "e52de434-5c81-46d0-ba31-8046ff1e6b8b",
   "metadata": {},
   "outputs": [],
   "source": [
    "if 'google.colab' in sys.modules:\n",
    "    from google.colab import drive\n",
    "    drive.mount('/content/drive')\n",
    "    BASE_DIR = '/content/drive/MyDrive/master/ml'\n",
    "else:\n",
    "    BASE_DIR = '.'\n",
    "\n",
    "DEVICE = 'cuda' if torch.cuda.is_available() else 'cpu'"
   ]
  },
  {
   "cell_type": "markdown",
   "id": "939c35e8-c618-4910-8b9e-c36d5129da24",
   "metadata": {},
   "source": [
    "# Model code"
   ]
  },
  {
   "cell_type": "code",
   "execution_count": 42,
   "id": "885533ab-c15d-4a9c-908c-b723cb179d72",
   "metadata": {},
   "outputs": [],
   "source": [
    "import torch\n",
    "from torch import nn\n",
    "import torch.nn.functional as F\n",
    "from collections import namedtuple\n",
    "\n",
    "InceptionOutputs = namedtuple(\"InceptionOutputs\", [\"logits\", \"aux_logits\"])\n",
    "\n",
    "class ConvBlock(nn.Module):\n",
    "    def __init__(self, in_dim, out_dim, kernel, padding, stride=1):\n",
    "        super(ConvBlock, self).__init__()\n",
    "        self.conv = nn.Conv2d(in_channels=in_dim,\n",
    "                              out_channels=out_dim,\n",
    "                              kernel_size=kernel,\n",
    "                              padding=padding,\n",
    "                              stride=stride,\n",
    "                              bias=False)\n",
    "        self.bn = nn.BatchNorm2d(num_features=out_dim, eps=.001)\n",
    "        self.activation = nn.ReLU()\n",
    "\n",
    "    def forward(self, x):\n",
    "        x = self.conv(x)\n",
    "        x = self.bn(x)\n",
    "        return self.activation(x)\n",
    "\n",
    "\n",
    "class InceptionA(nn.Module):\n",
    "    def __init__(self, in_dim, pooling_dim, pooling_layer=nn.AvgPool2d):\n",
    "        super(InceptionA, self).__init__()\n",
    "        self.conv_1x1 = ConvBlock(in_dim=in_dim, out_dim=64, kernel=1, padding='same')\n",
    "\n",
    "        self.conv_5x5_1 = ConvBlock(in_dim=in_dim, out_dim=48, kernel=1, padding='same')\n",
    "        self.conv_5x5_2 = ConvBlock(in_dim=48, out_dim=64, kernel=5, padding='same')\n",
    "\n",
    "        self.conv_5x5 = nn.Sequential(self.conv_5x5_1, self.conv_5x5_2)\n",
    "\n",
    "        self.conv_3x3_1 = ConvBlock(in_dim=in_dim, out_dim=64, kernel=1, padding='same')\n",
    "        self.conv_3x3_2 = ConvBlock(in_dim=64, out_dim=96, kernel=3, padding='same')\n",
    "        self.conv_3x3_3 = ConvBlock(in_dim=96, out_dim=96, kernel=3, padding='same')\n",
    "\n",
    "        self.conv_3x3 = nn.Sequential(self.conv_3x3_1, self.conv_3x3_2, self.conv_3x3_3)\n",
    "\n",
    "        self.pool = nn.Sequential(\n",
    "            pooling_layer(kernel_size=3, stride=1, padding=1),\n",
    "            ConvBlock(in_dim=in_dim, out_dim=pooling_dim, kernel=1, padding='same')\n",
    "        )\n",
    "\n",
    "    def forward(self, x):\n",
    "        conv_1x1 = self.conv_1x1(x)\n",
    "\n",
    "        conv_5x5 = self.conv_5x5(x)\n",
    "\n",
    "        conv_3x3 = self.conv_3x3(x)\n",
    "\n",
    "        pool = self.pool(x)\n",
    "\n",
    "        out = [conv_1x1, conv_3x3, conv_5x5, pool]\n",
    "\n",
    "        return torch.cat(out, dim=1)\n",
    "\n",
    "\n",
    "class InceptionB(nn.Module):\n",
    "    def __init__(self, in_dim, pooling=nn.MaxPool2d):\n",
    "        super(InceptionB, self).__init__()\n",
    "\n",
    "        self.conv_3x3 = ConvBlock(in_dim=in_dim, out_dim=384, kernel=3, stride=2, padding=0)\n",
    "\n",
    "        self.conv_3x3dbl = nn.Sequential(\n",
    "            ConvBlock(in_dim=in_dim, out_dim=64, kernel=1, padding='same'),\n",
    "            ConvBlock(in_dim=64, out_dim=96, kernel=3, padding='same'),\n",
    "            ConvBlock(in_dim=96, out_dim=96, kernel=3, stride=2, padding=0)\n",
    "        )\n",
    "\n",
    "        self.pool = pooling(kernel_size=3, stride=2)\n",
    "\n",
    "    def forward(self, x):\n",
    "        conv_3x3 = self.conv_3x3(x)\n",
    "\n",
    "        conv_3x3dbl = self.conv_3x3dbl(x)\n",
    "\n",
    "        pool = self.pool(x)\n",
    "\n",
    "        out = [conv_3x3, conv_3x3dbl, pool]\n",
    "\n",
    "        return torch.cat(out, dim=1)\n",
    "\n",
    "\n",
    "class InceptionC(nn.Module):\n",
    "    def __init__(self, in_dim, dim_7x7, pooling=nn.AvgPool2d):\n",
    "        super(InceptionC, self).__init__()\n",
    "\n",
    "        self.conv_1x1 = ConvBlock(in_dim=in_dim, out_dim=192, kernel=1, padding=0)\n",
    "\n",
    "        self.conv_7x7 = nn.Sequential(\n",
    "            ConvBlock(in_dim=in_dim, out_dim=dim_7x7, kernel=1, padding=0),\n",
    "            ConvBlock(in_dim=dim_7x7, out_dim=dim_7x7, kernel=(1,7), padding=(0,3)),\n",
    "            ConvBlock(in_dim=dim_7x7, out_dim=192, kernel=(7,1), padding=(3,0))\n",
    "        )\n",
    "\n",
    "        self.conv_7x7dbl = nn.Sequential(\n",
    "            ConvBlock(in_dim=in_dim, out_dim=dim_7x7, kernel=1, padding=0),\n",
    "            ConvBlock(in_dim=dim_7x7, out_dim=dim_7x7, kernel=(7,1), padding=(3,0)),\n",
    "            ConvBlock(in_dim=dim_7x7, out_dim=dim_7x7, kernel=(1,7), padding=(0,3)),\n",
    "            ConvBlock(in_dim=dim_7x7, out_dim=dim_7x7, kernel=(7,1), padding=(3,0)),\n",
    "            ConvBlock(in_dim=dim_7x7, out_dim=192, kernel=(1,7), padding=(0,3))\n",
    "        )\n",
    "\n",
    "        self.pool = nn.Sequential(\n",
    "            pooling(kernel_size=3, stride=1, padding=1),\n",
    "            ConvBlock(in_dim=in_dim, out_dim=192, kernel=1, padding=0)\n",
    "        )\n",
    "\n",
    "    def forward(self, x):\n",
    "        conv_1x1 = self.conv_1x1(x)\n",
    "\n",
    "        conv_7x7 = self.conv_7x7(x)\n",
    "\n",
    "        conv_7x7dbl = self.conv_7x7dbl(x)\n",
    "\n",
    "        pool = self.pool(x)\n",
    "\n",
    "        out = [conv_1x1, conv_7x7, conv_7x7dbl, pool]\n",
    "\n",
    "        return torch.cat(out, dim=1)\n",
    "\n",
    "\n",
    "class InceptionD(nn.Module):\n",
    "    def __init__(self, in_dim, pooling=nn.MaxPool2d):\n",
    "        super(InceptionD, self).__init__()\n",
    "\n",
    "        self.conv_3x3 = nn.Sequential(\n",
    "            ConvBlock(in_dim=in_dim, out_dim=192, kernel=1, padding=0),\n",
    "            ConvBlock(in_dim=192, out_dim=320, kernel=3, stride=2, padding=0)\n",
    "        )\n",
    "\n",
    "        self.conv_7x7x3 = nn.Sequential(\n",
    "            ConvBlock(in_dim=in_dim, out_dim=192, kernel=1, padding=0),\n",
    "            ConvBlock(in_dim=192, out_dim=192, kernel=(1,7), padding=(0,3)),\n",
    "            ConvBlock(in_dim=192, out_dim=192, kernel=(7,1), padding=(3,0)),\n",
    "            ConvBlock(in_dim=192, out_dim=192, kernel=3, stride=2, padding=0),\n",
    "        )\n",
    "\n",
    "        self.pool = pooling(kernel_size=3, stride=2)\n",
    "\n",
    "    def forward(self, x):\n",
    "        conv_3x3 = self.conv_3x3(x)\n",
    "\n",
    "        conv_7x7x3 = self.conv_7x7x3(x)\n",
    "\n",
    "        pool = self.pool(x)\n",
    "\n",
    "        out = [conv_3x3, conv_7x7x3, pool]\n",
    "\n",
    "        return torch.cat(out, dim=1)\n",
    "\n",
    "\n",
    "class InceptionE(nn.Module):\n",
    "    def __init__(self, in_dim, pooling=nn.AvgPool2d):\n",
    "        super(InceptionE, self).__init__()\n",
    "\n",
    "        self.conv_1x1 = ConvBlock(in_dim=in_dim, out_dim=320, kernel=1, padding=0)\n",
    "\n",
    "        self.conv_3x3 = ConvBlock(in_dim=in_dim, out_dim=384, kernel=1, padding=0)\n",
    "\n",
    "        self.conv_3x3_a = ConvBlock(in_dim=384, out_dim=384, kernel=(1,3), padding=(0,1))\n",
    "        self.conv_3x3_b = ConvBlock(in_dim=384, out_dim=384, kernel=(3,1), padding=(1,0))\n",
    "\n",
    "        self.conv_3x3dbl = nn.Sequential(\n",
    "            ConvBlock(in_dim=in_dim, out_dim=448, kernel=1, padding=0),\n",
    "            ConvBlock(in_dim=448, out_dim=384, kernel=3, padding=1),\n",
    "        )\n",
    "        self.conv_3x3dbl_a = ConvBlock(in_dim=384, out_dim=384, kernel=(1,3), padding=(0,1))\n",
    "        self.conv_3x3dbl_b = ConvBlock(in_dim=384, out_dim=384, kernel=(3,1), padding=(1,0))\n",
    "\n",
    "        self.pool = nn.Sequential(\n",
    "            pooling(kernel_size=3, stride=1, padding=1),\n",
    "            ConvBlock(in_dim=in_dim, out_dim=192, kernel=1, padding=0)\n",
    "        )\n",
    "\n",
    "    def forward(self, x):\n",
    "        conv_1x1 = self.conv_1x1(x)\n",
    "\n",
    "        conv_3x3 = self.conv_3x3(x)\n",
    "        conv_3x3 = torch.cat([self.conv_3x3_a(conv_3x3), self.conv_3x3_b(conv_3x3)], dim=1)\n",
    "\n",
    "        conv_3x3dbl = self.conv_3x3dbl(x)\n",
    "        conv_3x3dbl = torch.cat([self.conv_3x3dbl_a(conv_3x3dbl), self.conv_3x3dbl_b(conv_3x3dbl)], dim=1)\n",
    "\n",
    "        pool = self.pool(x)\n",
    "\n",
    "        out = [conv_1x1, conv_3x3, conv_3x3dbl, pool]\n",
    "\n",
    "        return torch.cat(out, dim=1)\n",
    "\n",
    "\n",
    "class InceptionAux(nn.Module):\n",
    "    def __init__(self, in_dim, out_dim):\n",
    "        super(InceptionAux, self).__init__()\n",
    "\n",
    "        self.conv0 = ConvBlock(in_dim=in_dim, out_dim=128, kernel=1, padding=0)\n",
    "        self.conv1 = ConvBlock(in_dim=128, out_dim=768, kernel=5, padding=0)\n",
    "\n",
    "        self.conv1.stddev = torch.tensor(.01)\n",
    "\n",
    "        self.fc = nn.Linear(768, out_dim)\n",
    "        self.fc.stddev = torch.tensor(.001)\n",
    "\n",
    "    def forward(self, x):\n",
    "        # x = F.avg_pool2d(x, kernel_size=5, stride=3)\n",
    "\n",
    "        x = self.conv0(x)\n",
    "\n",
    "        x = self.conv1(x)\n",
    "\n",
    "        x = F.adaptive_avg_pool2d(x, output_size=(1,1))\n",
    "\n",
    "        x = x.view(x.size(0), -1)\n",
    "\n",
    "        return self.fc(x)\n",
    "\n",
    "\n",
    "class InceptionV3(nn.Module):\n",
    "    def __init__(self, out_dim, aux_logits):\n",
    "        super(InceptionV3, self).__init__()\n",
    "\n",
    "        self.aux_logits = aux_logits\n",
    "        \n",
    "        self.conv0 = ConvBlock(3, 192, kernel=3, padding=1)\n",
    "\n",
    "        self.mixed_5b = InceptionA(192, 32)\n",
    "        self.mixed_5c = InceptionA(256, 64)\n",
    "        self.mixed_5d = InceptionA(288, 64)\n",
    "\n",
    "        self.mixed_6a = InceptionB(288)\n",
    "        self.mixed_6b = InceptionC(768, 128)\n",
    "        self.mixed_6c = InceptionC(768, 160)\n",
    "        self.mixed_6d = InceptionC(768, 160)\n",
    "        self.mixed_6e = InceptionC(768, 192)\n",
    "\n",
    "        if self.aux_logits:\n",
    "            self.aux = InceptionAux(768, out_dim)\n",
    "\n",
    "        self.mixed_7a = InceptionD(768)\n",
    "        self.mixed_7b = InceptionE(1280)\n",
    "        self.mixed_7c = InceptionE(2048)\n",
    "\n",
    "        self.fc = nn.Linear(2048, out_dim)\n",
    "\n",
    "    def forward(self, x):\n",
    "        # 3 x 32 x 32\n",
    "        x = self.conv0(x)\n",
    "\n",
    "        # 192 x 32 x 32\n",
    "        x = self.mixed_5b(x)\n",
    "\n",
    "        # 256 x 32 x 32\n",
    "        x = self.mixed_5c(x)\n",
    "\n",
    "        # 288 x 32 x 32\n",
    "        x = self.mixed_5d(x)\n",
    "        \n",
    "        # 288 x 32 x 32\n",
    "        x = self.mixed_6a(x)\n",
    "\n",
    "        # 768 x 15 x 15\n",
    "        x = self.mixed_6b(x)\n",
    "\n",
    "        # 768 x 15 x 15\n",
    "        x = self.mixed_6c(x)\n",
    "        \n",
    "        x = self.mixed_6d(x)\n",
    "\n",
    "        x = self.mixed_6e(x)\n",
    "\n",
    "        if self.training and self.aux_logits:\n",
    "            aux = self.aux(x)\n",
    "\n",
    "        x = self.mixed_7a(x)\n",
    "\n",
    "        x = self.mixed_7b(x)\n",
    "\n",
    "        x = self.mixed_7c(x)\n",
    "\n",
    "        x = F.adaptive_avg_pool2d(x, (1, 1))\n",
    "        x = F.dropout(x, training=self.training)\n",
    "        x = x.view(x.size(0), -1)\n",
    "        x = self.fc(x)\n",
    "        # x = F.softmax(x)\n",
    "\n",
    "        if self.training and self.aux_logits:\n",
    "            return InceptionOutputs(x, aux)\n",
    "\n",
    "        return x"
   ]
  },
  {
   "cell_type": "markdown",
   "id": "46b8fd86-0985-4028-b488-07d5e108665d",
   "metadata": {},
   "source": [
    "# Import data"
   ]
  },
  {
   "cell_type": "code",
   "execution_count": 28,
   "id": "c105a1fb-724d-44ca-a633-73af3a54073b",
   "metadata": {},
   "outputs": [
    {
     "name": "stdout",
     "output_type": "stream",
     "text": [
      "Files already downloaded and verified\n",
      "Files already downloaded and verified\n"
     ]
    }
   ],
   "source": [
    "transform = transforms.Compose(\n",
    "    [transforms.ToTensor(),\n",
    "     transforms.Normalize((0.5, 0.5, 0.5), (0.5, 0.5, 0.5))])\n",
    "\n",
    "batch_size = 128\n",
    "\n",
    "train_val_ds = torchvision.datasets.CIFAR10(root='./data', train=True,\n",
    "                                        download=True, transform=transform)\n",
    "\n",
    "train_ds, val_ds = torch.utils.data.random_split(train_val_ds, [.9, .1])\n",
    "\n",
    "train_dl = torch.utils.data.DataLoader(train_ds, batch_size=batch_size,\n",
    "                                          shuffle=True, num_workers=2)\n",
    "val_dl = torch.utils.data.DataLoader(val_ds, batch_size=batch_size,\n",
    "                                          shuffle=True, num_workers=2)\n",
    "\n",
    "test_ds = torchvision.datasets.CIFAR10(root='./data', train=False,\n",
    "                                       download=True, transform=transform)\n",
    "test_dl = torch.utils.data.DataLoader(test_ds, batch_size=batch_size,\n",
    "                                         shuffle=False, num_workers=2)\n",
    "\n",
    "classes = ('plane', 'car', 'bird', 'cat',\n",
    "           'deer', 'dog', 'frog', 'horse', 'ship', 'truck')"
   ]
  },
  {
   "cell_type": "markdown",
   "id": "e9e4ece9-afa5-4754-bea7-d079f5da56dc",
   "metadata": {},
   "source": [
    "# W/o aux"
   ]
  },
  {
   "cell_type": "markdown",
   "id": "cd26377d-81a1-4d27-a7b9-95793b211dee",
   "metadata": {},
   "source": [
    "## Training loop"
   ]
  },
  {
   "cell_type": "code",
   "execution_count": 31,
   "id": "c75038ab-72f1-4cd9-b51b-ea040f33ba78",
   "metadata": {},
   "outputs": [],
   "source": [
    "model = InceptionV3(10, False)"
   ]
  },
  {
   "cell_type": "code",
   "execution_count": 32,
   "id": "10a9ab33-e6e9-4d4f-88ec-1f8bba623740",
   "metadata": {},
   "outputs": [
    {
     "name": "stderr",
     "output_type": "stream",
     "text": [
      "Epoch 0: 100%|██████████| 352/352 [00:43<00:00,  8.03batch/s, accuracy=0.542, loss=1.3]  \n"
     ]
    },
    {
     "name": "stdout",
     "output_type": "stream",
     "text": [
      "done epoch 0 with results: loss=1.4292087632824073, val_loss=1.5024701595306396\n"
     ]
    },
    {
     "name": "stderr",
     "output_type": "stream",
     "text": [
      "Epoch 1: 100%|██████████| 352/352 [00:43<00:00,  8.05batch/s, accuracy=0.764, loss=0.658]\n"
     ]
    },
    {
     "name": "stdout",
     "output_type": "stream",
     "text": [
      "done epoch 1 with results: loss=0.899137216704813, val_loss=0.8789776414632797\n"
     ]
    },
    {
     "name": "stderr",
     "output_type": "stream",
     "text": [
      "Epoch 2: 100%|██████████| 352/352 [00:43<00:00,  8.03batch/s, accuracy=0.819, loss=0.491]\n"
     ]
    },
    {
     "name": "stdout",
     "output_type": "stream",
     "text": [
      "done epoch 2 with results: loss=0.667005817829208, val_loss=0.73724794536829\n"
     ]
    },
    {
     "name": "stderr",
     "output_type": "stream",
     "text": [
      "Epoch 3: 100%|██████████| 352/352 [00:43<00:00,  8.03batch/s, accuracy=0.889, loss=0.38] \n"
     ]
    },
    {
     "name": "stdout",
     "output_type": "stream",
     "text": [
      "done epoch 3 with results: loss=0.5308878623287786, val_loss=0.5212277621030807\n"
     ]
    },
    {
     "name": "stderr",
     "output_type": "stream",
     "text": [
      "Epoch 4: 100%|██████████| 352/352 [00:43<00:00,  8.03batch/s, accuracy=0.833, loss=0.529]\n"
     ]
    },
    {
     "name": "stdout",
     "output_type": "stream",
     "text": [
      "done epoch 4 with results: loss=0.4380797226489945, val_loss=0.532693962007761\n"
     ]
    },
    {
     "name": "stderr",
     "output_type": "stream",
     "text": [
      "Epoch 5: 100%|██████████| 352/352 [00:43<00:00,  8.02batch/s, accuracy=0.847, loss=0.413]\n"
     ]
    },
    {
     "name": "stdout",
     "output_type": "stream",
     "text": [
      "done epoch 5 with results: loss=0.3690239866687493, val_loss=0.47764636352658274\n"
     ]
    },
    {
     "name": "stderr",
     "output_type": "stream",
     "text": [
      "Epoch 6: 100%|██████████| 352/352 [00:43<00:00,  8.04batch/s, accuracy=0.778, loss=0.474]\n"
     ]
    },
    {
     "name": "stdout",
     "output_type": "stream",
     "text": [
      "done epoch 6 with results: loss=0.31218682551248506, val_loss=0.4757805556058884\n"
     ]
    },
    {
     "name": "stderr",
     "output_type": "stream",
     "text": [
      "Epoch 7: 100%|██████████| 352/352 [00:43<00:00,  8.03batch/s, accuracy=0.889, loss=0.228]\n"
     ]
    },
    {
     "name": "stdout",
     "output_type": "stream",
     "text": [
      "done epoch 7 with results: loss=0.2699455558110706, val_loss=0.539562176167965\n"
     ]
    },
    {
     "name": "stderr",
     "output_type": "stream",
     "text": [
      "Epoch 8: 100%|██████████| 352/352 [00:43<00:00,  8.04batch/s, accuracy=0.931, loss=0.182] \n"
     ]
    },
    {
     "name": "stdout",
     "output_type": "stream",
     "text": [
      "done epoch 8 with results: loss=0.23021918702447278, val_loss=0.4896634977310896\n"
     ]
    },
    {
     "name": "stderr",
     "output_type": "stream",
     "text": [
      "Epoch 9: 100%|██████████| 352/352 [00:43<00:00,  8.04batch/s, accuracy=0.958, loss=0.133] \n"
     ]
    },
    {
     "name": "stdout",
     "output_type": "stream",
     "text": [
      "done epoch 9 with results: loss=0.19601870448836548, val_loss=0.39725821018218993\n"
     ]
    },
    {
     "name": "stderr",
     "output_type": "stream",
     "text": [
      "Epoch 10: 100%|██████████| 352/352 [00:43<00:00,  8.04batch/s, accuracy=0.958, loss=0.108] \n"
     ]
    },
    {
     "name": "stdout",
     "output_type": "stream",
     "text": [
      "done epoch 10 with results: loss=0.17028508896262132, val_loss=0.4424818783998489\n"
     ]
    },
    {
     "name": "stderr",
     "output_type": "stream",
     "text": [
      "Epoch 11: 100%|██████████| 352/352 [00:43<00:00,  8.03batch/s, accuracy=0.958, loss=0.132] \n"
     ]
    },
    {
     "name": "stdout",
     "output_type": "stream",
     "text": [
      "done epoch 11 with results: loss=0.14501984472471205, val_loss=0.5527159076184034\n"
     ]
    },
    {
     "name": "stderr",
     "output_type": "stream",
     "text": [
      "Epoch 12: 100%|██████████| 352/352 [00:43<00:00,  8.04batch/s, accuracy=0.986, loss=0.077] \n"
     ]
    },
    {
     "name": "stdout",
     "output_type": "stream",
     "text": [
      "done epoch 12 with results: loss=0.12233733529732986, val_loss=0.48301704227924347\n"
     ]
    },
    {
     "name": "stderr",
     "output_type": "stream",
     "text": [
      "Epoch 13: 100%|██████████| 352/352 [00:43<00:00,  8.04batch/s, accuracy=0.958, loss=0.144] \n"
     ]
    },
    {
     "name": "stdout",
     "output_type": "stream",
     "text": [
      "done epoch 13 with results: loss=0.10879022809570994, val_loss=0.49227306097745893\n"
     ]
    },
    {
     "name": "stderr",
     "output_type": "stream",
     "text": [
      "Epoch 14: 100%|██████████| 352/352 [00:43<00:00,  8.02batch/s, accuracy=0.958, loss=0.128] \n"
     ]
    },
    {
     "name": "stdout",
     "output_type": "stream",
     "text": [
      "done epoch 14 with results: loss=0.10153983464062383, val_loss=0.4251784052699804\n"
     ]
    },
    {
     "name": "stderr",
     "output_type": "stream",
     "text": [
      "Epoch 15: 100%|██████████| 352/352 [00:43<00:00,  8.05batch/s, accuracy=0.986, loss=0.0497]\n"
     ]
    },
    {
     "name": "stdout",
     "output_type": "stream",
     "text": [
      "done epoch 15 with results: loss=0.07908760984851555, val_loss=0.4667627077549696\n"
     ]
    }
   ],
   "source": [
    "num_epochs = 15\n",
    "file_label = 'inceptionv3-adam-15-cifar10'\n",
    "\n",
    "model = model.to(DEVICE)\n",
    "\n",
    "if os.path.exists(f'{BASE_DIR}/checkpoints/savepoint-{file_label}.pt'):\n",
    "    model.load_state_dict(torch.load(f'{BASE_DIR}/checkpoints/savepoint-{file_label}.pt'))\n",
    "    history = torch.load(f'{BASE_DIR}/checkpoints/history-{file_label}.pt')\n",
    "else:\n",
    "    history = {\n",
    "        'loss': [],\n",
    "        'val_loss': []\n",
    "    }\n",
    "\n",
    "num_epochs_completed = len(history['loss'])\n",
    "\n",
    "criterion = nn.CrossEntropyLoss().to(DEVICE)\n",
    "optimizer = torch.optim.Adam(model.parameters())\n",
    "\n",
    "for epoch in range(num_epochs_completed, num_epochs+1):\n",
    "    with tqdm(train_dl, unit='batch') as tepoch:\n",
    "        epoch_losses = []\n",
    "        model.train()\n",
    "        for data, target in tepoch:\n",
    "            tepoch.set_description(f\"Epoch {epoch}\")\n",
    "\n",
    "            data, target = data.to(DEVICE), F.one_hot(target, 10).float().to(DEVICE)\n",
    "            optimizer.zero_grad()\n",
    "            out = model(data)\n",
    "            loss = criterion(out, target)\n",
    "            loss.backward()\n",
    "            optimizer.step()\n",
    "            epoch_losses.append(loss.item())\n",
    "\n",
    "            correct = (out.argmax(1) == target.argmax(1)).sum().item()\n",
    "            accuracy = correct / len(target)\n",
    "\n",
    "            tepoch.set_postfix(loss=loss.item(), accuracy=accuracy)\n",
    "    epoch_mean_loss = sum(epoch_losses) / len(epoch_losses)\n",
    "    history['loss'].append(epoch_mean_loss)\n",
    "\n",
    "    with torch.no_grad():\n",
    "        epoch_val_losses = []\n",
    "        model.eval()\n",
    "        for data, target in val_dl:\n",
    "            data, target = data.to(DEVICE), F.one_hot(target, 10).float().to(DEVICE)\n",
    "            out = model(data)\n",
    "            loss = criterion(out, target)\n",
    "            epoch_val_losses.append(loss.item())\n",
    "        epoch_mean_val_loss = sum(epoch_val_losses) / len(epoch_val_losses)\n",
    "        history['val_loss'].append(epoch_mean_val_loss)\n",
    "\n",
    "    torch.save(model.state_dict(), f'{BASE_DIR}/checkpoints/savepoint-{file_label}.pt')\n",
    "    torch.save(history, f'{BASE_DIR}/checkpoints/history-{file_label}.pt')\n",
    "\n",
    "    print(f'done epoch {epoch} with results: loss={epoch_mean_loss}, val_loss={epoch_mean_val_loss}')"
   ]
  },
  {
   "cell_type": "markdown",
   "id": "49825d54-bcba-4e34-9565-d6e25dca80d7",
   "metadata": {},
   "source": [
    "## History"
   ]
  },
  {
   "cell_type": "code",
   "execution_count": 33,
   "id": "2402fca9-c978-40bc-aece-7718ae434859",
   "metadata": {},
   "outputs": [
    {
     "data": {
      "image/png": "[encoded data removed]",
      "text/plain": [
       "<Figure size 640x480 with 1 Axes>"
      ]
     },
     "metadata": {},
     "output_type": "display_data"
    }
   ],
   "source": [
    "plt.plot(history['loss'], label='train')\n",
    "plt.plot(history['val_loss'], label='val')\n",
    "\n",
    "plt.legend()\n",
    "\n",
    "plt.show()"
   ]
  },
  {
   "cell_type": "markdown",
   "id": "87b432c6-77be-4dab-8fbd-77649085efc9",
   "metadata": {},
   "source": [
    "## Metrics"
   ]
  },
  {
   "cell_type": "code",
   "execution_count": 34,
   "id": "31c795f2-e73a-4064-92c0-584c8273a0c4",
   "metadata": {},
   "outputs": [
    {
     "data": {
      "text/plain": [
       "(0.5024242035195797, 0.8749011075949367)"
      ]
     },
     "execution_count": 34,
     "metadata": {},
     "output_type": "execute_result"
    }
   ],
   "source": [
    "test_losses = []\n",
    "test_acc = []\n",
    "with torch.no_grad():\n",
    "    model = model.eval()\n",
    "    for data, label in test_dl:\n",
    "        data, label = data.to(DEVICE), F.one_hot(label, 10).float().to(DEVICE)\n",
    "        out = model(data)\n",
    "\n",
    "        loss = criterion(out, label)\n",
    "        test_losses.append(loss.item())\n",
    "\n",
    "        correct = (out.argmax(1) == label.argmax(1)).sum().item()\n",
    "        accuracy = correct / len(label)\n",
    "        test_acc.append(accuracy)\n",
    "\n",
    "sum(test_losses) / len(test_losses), sum(test_acc) / len(test_acc)"
   ]
  },
  {
   "cell_type": "code",
   "execution_count": 38,
   "id": "2b6dc411-c601-426a-868d-c11cb323a681",
   "metadata": {},
   "outputs": [
    {
     "name": "stderr",
     "output_type": "stream",
     "text": [
      "Clipping input data to the valid range for imshow with RGB data ([0..1] for floats or [0..255] for integers).\n",
      "Clipping input data to the valid range for imshow with RGB data ([0..1] for floats or [0..255] for integers).\n",
      "Clipping input data to the valid range for imshow with RGB data ([0..1] for floats or [0..255] for integers).\n",
      "Clipping input data to the valid range for imshow with RGB data ([0..1] for floats or [0..255] for integers).\n",
      "Clipping input data to the valid range for imshow with RGB data ([0..1] for floats or [0..255] for integers).\n",
      "Clipping input data to the valid range for imshow with RGB data ([0..1] for floats or [0..255] for integers).\n",
      "Clipping input data to the valid range for imshow with RGB data ([0..1] for floats or [0..255] for integers).\n",
      "Clipping input data to the valid range for imshow with RGB data ([0..1] for floats or [0..255] for integers).\n",
      "Clipping input data to the valid range for imshow with RGB data ([0..1] for floats or [0..255] for integers).\n"
     ]
    },
    {
     "data": {
      "image/png": "[encoded data removed]",
      "text/plain": [
       "<Figure size 640x480 with 9 Axes>"
      ]
     },
     "metadata": {},
     "output_type": "display_data"
    }
   ],
   "source": [
    "data, label = next(iter(test_dl))\n",
    "data, label = data.to(DEVICE), F.one_hot(label, 10).float().to(DEVICE)\n",
    "\n",
    "out = model(data)\n",
    "\n",
    "fig, axs = plt.subplots(3, 3)\n",
    "\n",
    "for i, im in enumerate(data.cpu().numpy()[:9]):\n",
    "    ax = axs.flatten()[i]\n",
    "    im = im.transpose()\n",
    "    im = np.rot90(im, -1)\n",
    "    ax.imshow(im)\n",
    "    ax.axis('off')\n",
    "    ax.set_title(classes[out[i].argmax()])\n",
    "\n",
    "plt.show()"
   ]
  },
  {
   "cell_type": "markdown",
   "id": "1d318d37-94e2-4039-8260-f8382d3a75d9",
   "metadata": {},
   "source": [
    "# With aux"
   ]
  },
  {
   "cell_type": "markdown",
   "id": "c296f652-5bcd-4e30-aab8-3f347e1693d7",
   "metadata": {},
   "source": [
    "## Training loop"
   ]
  },
  {
   "cell_type": "code",
   "execution_count": 45,
   "id": "66e369a7-9cc3-451c-8a58-4be668d69ee7",
   "metadata": {},
   "outputs": [
    {
     "name": "stderr",
     "output_type": "stream",
     "text": [
      "Epoch 1: 100%|██████████| 352/352 [00:44<00:00,  7.97batch/s, accuracy=0.569, loss=1.08] \n"
     ]
    },
    {
     "name": "stdout",
     "output_type": "stream",
     "text": [
      "done epoch 1 with results: loss=1.4781630106947639, val_loss=1.349469056725502\n"
     ]
    },
    {
     "name": "stderr",
     "output_type": "stream",
     "text": [
      "Epoch 2: 100%|██████████| 352/352 [00:44<00:00,  7.98batch/s, accuracy=0.778, loss=0.592]\n"
     ]
    },
    {
     "name": "stdout",
     "output_type": "stream",
     "text": [
      "done epoch 2 with results: loss=0.9364015326242555, val_loss=0.7959494344890118\n"
     ]
    },
    {
     "name": "stderr",
     "output_type": "stream",
     "text": [
      "Epoch 3: 100%|██████████| 352/352 [00:44<00:00,  7.97batch/s, accuracy=0.778, loss=0.641]\n"
     ]
    },
    {
     "name": "stdout",
     "output_type": "stream",
     "text": [
      "done epoch 3 with results: loss=0.6960013956678185, val_loss=0.6884273201227188\n"
     ]
    },
    {
     "name": "stderr",
     "output_type": "stream",
     "text": [
      "Epoch 4: 100%|██████████| 352/352 [00:44<00:00,  7.97batch/s, accuracy=0.778, loss=0.618]\n"
     ]
    },
    {
     "name": "stdout",
     "output_type": "stream",
     "text": [
      "done epoch 4 with results: loss=0.5481660095128146, val_loss=0.5516543067991734\n"
     ]
    },
    {
     "name": "stderr",
     "output_type": "stream",
     "text": [
      "Epoch 5: 100%|██████████| 352/352 [00:44<00:00,  7.97batch/s, accuracy=0.833, loss=0.555]\n"
     ]
    },
    {
     "name": "stdout",
     "output_type": "stream",
     "text": [
      "done epoch 5 with results: loss=0.45967114928432484, val_loss=0.5407263182103634\n"
     ]
    },
    {
     "name": "stderr",
     "output_type": "stream",
     "text": [
      "Epoch 6: 100%|██████████| 352/352 [00:44<00:00,  7.96batch/s, accuracy=0.861, loss=0.433]\n"
     ]
    },
    {
     "name": "stdout",
     "output_type": "stream",
     "text": [
      "done epoch 6 with results: loss=0.394314582882957, val_loss=0.5352998107671738\n"
     ]
    },
    {
     "name": "stderr",
     "output_type": "stream",
     "text": [
      "Epoch 7: 100%|██████████| 352/352 [00:44<00:00,  7.95batch/s, accuracy=0.861, loss=0.374]\n"
     ]
    },
    {
     "name": "stdout",
     "output_type": "stream",
     "text": [
      "done epoch 7 with results: loss=0.33582073826850817, val_loss=0.520741568505764\n"
     ]
    },
    {
     "name": "stderr",
     "output_type": "stream",
     "text": [
      "Epoch 8: 100%|██████████| 352/352 [00:44<00:00,  7.97batch/s, accuracy=0.931, loss=0.22] \n"
     ]
    },
    {
     "name": "stdout",
     "output_type": "stream",
     "text": [
      "done epoch 8 with results: loss=0.2903236377222294, val_loss=0.4497684741392732\n"
     ]
    },
    {
     "name": "stderr",
     "output_type": "stream",
     "text": [
      "Epoch 9: 100%|██████████| 352/352 [00:44<00:00,  7.99batch/s, accuracy=0.903, loss=0.344] \n"
     ]
    },
    {
     "name": "stdout",
     "output_type": "stream",
     "text": [
      "done epoch 9 with results: loss=0.2460433557968248, val_loss=0.4711457617580891\n"
     ]
    },
    {
     "name": "stderr",
     "output_type": "stream",
     "text": [
      "Epoch 10: 100%|██████████| 352/352 [00:44<00:00,  7.97batch/s, accuracy=0.903, loss=0.265]\n"
     ]
    },
    {
     "name": "stdout",
     "output_type": "stream",
     "text": [
      "done epoch 10 with results: loss=0.2139908222862604, val_loss=0.5657155692577363\n"
     ]
    },
    {
     "name": "stderr",
     "output_type": "stream",
     "text": [
      "Epoch 11: 100%|██████████| 352/352 [00:44<00:00,  7.98batch/s, accuracy=0.917, loss=0.298] \n"
     ]
    },
    {
     "name": "stdout",
     "output_type": "stream",
     "text": [
      "done epoch 11 with results: loss=0.18971802723932674, val_loss=0.45317627135664224\n"
     ]
    },
    {
     "name": "stderr",
     "output_type": "stream",
     "text": [
      "Epoch 12: 100%|██████████| 352/352 [00:44<00:00,  7.96batch/s, accuracy=0.931, loss=0.311] \n"
     ]
    },
    {
     "name": "stdout",
     "output_type": "stream",
     "text": [
      "done epoch 12 with results: loss=0.15598480717744678, val_loss=0.4405971858650446\n"
     ]
    },
    {
     "name": "stderr",
     "output_type": "stream",
     "text": [
      "Epoch 13: 100%|██████████| 352/352 [00:44<00:00,  7.96batch/s, accuracy=0.931, loss=0.212] \n"
     ]
    },
    {
     "name": "stdout",
     "output_type": "stream",
     "text": [
      "done epoch 13 with results: loss=0.1365756097419018, val_loss=0.48392593264579775\n"
     ]
    },
    {
     "name": "stderr",
     "output_type": "stream",
     "text": [
      "Epoch 14: 100%|██████████| 352/352 [00:44<00:00,  7.97batch/s, accuracy=0.972, loss=0.142] \n"
     ]
    },
    {
     "name": "stdout",
     "output_type": "stream",
     "text": [
      "done epoch 14 with results: loss=0.12395563152280044, val_loss=0.4918086614459753\n"
     ]
    },
    {
     "name": "stderr",
     "output_type": "stream",
     "text": [
      "Epoch 15: 100%|██████████| 352/352 [00:44<00:00,  7.97batch/s, accuracy=0.972, loss=0.0632]\n"
     ]
    },
    {
     "name": "stdout",
     "output_type": "stream",
     "text": [
      "done epoch 15 with results: loss=0.1090063030238856, val_loss=0.487869318574667\n"
     ]
    }
   ],
   "source": [
    "model = InceptionV3(10, True)\n",
    "\n",
    "num_epochs = 15\n",
    "file_label = 'inceptionv3-adam-15-cifar10-aux'\n",
    "\n",
    "model = model.to(DEVICE)\n",
    "\n",
    "if os.path.exists(f'{BASE_DIR}/checkpoints/savepoint-{file_label}.pt'):\n",
    "    model.load_state_dict(torch.load(f'{BASE_DIR}/checkpoints/savepoint-{file_label}.pt'))\n",
    "    history = torch.load(f'{BASE_DIR}/checkpoints/history-{file_label}.pt')\n",
    "else:\n",
    "    history = {\n",
    "        'loss': [],\n",
    "        'val_loss': []\n",
    "    }\n",
    "\n",
    "num_epochs_completed = len(history['loss'])\n",
    "\n",
    "criterion = nn.CrossEntropyLoss().to(DEVICE)\n",
    "optimizer = torch.optim.Adam(model.parameters())\n",
    "\n",
    "for epoch in range(num_epochs_completed+1, num_epochs+1):\n",
    "    with tqdm(train_dl, unit='batch') as tepoch:\n",
    "        epoch_losses = []\n",
    "        model.train()\n",
    "        for data, target in tepoch:\n",
    "            tepoch.set_description(f\"Epoch {epoch}\")\n",
    "\n",
    "            data, target = data.to(DEVICE), F.one_hot(target, 10).float().to(DEVICE)\n",
    "            optimizer.zero_grad()\n",
    "            out, aux = model(data)\n",
    "            loss1 = criterion(out, target)\n",
    "            loss2 = criterion(aux, target)\n",
    "            loss = loss1 + loss2\n",
    "            loss = criterion(out, target)\n",
    "            loss.backward()\n",
    "            optimizer.step()\n",
    "            epoch_losses.append(loss.item())\n",
    "\n",
    "            correct = (out.argmax(1) == target.argmax(1)).sum().item()\n",
    "            accuracy = correct / len(target)\n",
    "\n",
    "            tepoch.set_postfix(loss=loss.item(), accuracy=accuracy)\n",
    "    epoch_mean_loss = sum(epoch_losses) / len(epoch_losses)\n",
    "    history['loss'].append(epoch_mean_loss)\n",
    "\n",
    "    with torch.no_grad():\n",
    "        epoch_val_losses = []\n",
    "        model.eval()\n",
    "        for data, target in val_dl:\n",
    "            data, target = data.to(DEVICE), F.one_hot(target, 10).float().to(DEVICE)\n",
    "            out = model(data)\n",
    "            loss = criterion(out, target)\n",
    "            epoch_val_losses.append(loss.item())\n",
    "        epoch_mean_val_loss = sum(epoch_val_losses) / len(epoch_val_losses)\n",
    "        history['val_loss'].append(epoch_mean_val_loss)\n",
    "\n",
    "    torch.save(model.state_dict(), f'{BASE_DIR}/checkpoints/savepoint-{file_label}.pt')\n",
    "    torch.save(history, f'{BASE_DIR}/checkpoints/history-{file_label}.pt')\n",
    "\n",
    "    print(f'done epoch {epoch} with results: loss={epoch_mean_loss}, val_loss={epoch_mean_val_loss}')"
   ]
  },
  {
   "cell_type": "markdown",
   "id": "bd336c72-fb48-444e-ad3b-8cf74cba0216",
   "metadata": {},
   "source": [
    "## History"
   ]
  },
  {
   "cell_type": "code",
   "execution_count": 46,
   "id": "567e2bb0-1300-457e-ad66-16c264e56c7d",
   "metadata": {},
   "outputs": [
    {
     "data": {
      "image/png": "[encoded data removed]",
      "text/plain": [
       "<Figure size 640x480 with 1 Axes>"
      ]
     },
     "metadata": {},
     "output_type": "display_data"
    }
   ],
   "source": [
    "plt.plot(history['loss'], label='train')\n",
    "plt.plot(history['val_loss'], label='val')\n",
    "\n",
    "plt.legend()\n",
    "\n",
    "plt.show()"
   ]
  },
  {
   "cell_type": "markdown",
   "id": "009930bb-d895-46a1-abef-530baabd2c20",
   "metadata": {},
   "source": [
    "## Metrics"
   ]
  },
  {
   "cell_type": "code",
   "execution_count": 47,
   "id": "c9cef5ee-d632-4c66-a253-c94c847ac9da",
   "metadata": {},
   "outputs": [
    {
     "data": {
      "text/plain": [
       "(0.5442129958279526, 0.8609572784810127)"
      ]
     },
     "execution_count": 47,
     "metadata": {},
     "output_type": "execute_result"
    }
   ],
   "source": [
    "test_losses = []\n",
    "test_acc = []\n",
    "with torch.no_grad():\n",
    "    model = model.eval()\n",
    "    for data, label in test_dl:\n",
    "        data, label = data.to(DEVICE), F.one_hot(label, 10).float().to(DEVICE)\n",
    "        out = model(data)\n",
    "\n",
    "        loss = criterion(out, label)\n",
    "        test_losses.append(loss.item())\n",
    "\n",
    "        correct = (out.argmax(1) == label.argmax(1)).sum().item()\n",
    "        accuracy = correct / len(label)\n",
    "        test_acc.append(accuracy)\n",
    "\n",
    "sum(test_losses) / len(test_losses), sum(test_acc) / len(test_acc)"
   ]
  },
  {
   "cell_type": "code",
   "execution_count": 48,
   "id": "4089697b-3bba-483d-a2b8-5bfca6f77dd9",
   "metadata": {},
   "outputs": [
    {
     "name": "stderr",
     "output_type": "stream",
     "text": [
      "Clipping input data to the valid range for imshow with RGB data ([0..1] for floats or [0..255] for integers).\n",
      "Clipping input data to the valid range for imshow with RGB data ([0..1] for floats or [0..255] for integers).\n",
      "Clipping input data to the valid range for imshow with RGB data ([0..1] for floats or [0..255] for integers).\n",
      "Clipping input data to the valid range for imshow with RGB data ([0..1] for floats or [0..255] for integers).\n",
      "Clipping input data to the valid range for imshow with RGB data ([0..1] for floats or [0..255] for integers).\n",
      "Clipping input data to the valid range for imshow with RGB data ([0..1] for floats or [0..255] for integers).\n",
      "Clipping input data to the valid range for imshow with RGB data ([0..1] for floats or [0..255] for integers).\n",
      "Clipping input data to the valid range for imshow with RGB data ([0..1] for floats or [0..255] for integers).\n",
      "Clipping input data to the valid range for imshow with RGB data ([0..1] for floats or [0..255] for integers).\n"
     ]
    },
    {
     "data": {
      "image/png": "[encoded data removed]",
      "text/plain": [
       "<Figure size 640x480 with 9 Axes>"
      ]
     },
     "metadata": {},
     "output_type": "display_data"
    }
   ],
   "source": [
    "data, label = next(iter(test_dl))\n",
    "data, label = data.to(DEVICE), F.one_hot(label, 10).float().to(DEVICE)\n",
    "\n",
    "out = model(data)\n",
    "\n",
    "fig, axs = plt.subplots(3, 3)\n",
    "\n",
    "for i, im in enumerate(data.cpu().numpy()[:9]):\n",
    "    ax = axs.flatten()[i]\n",
    "    im = im.transpose()\n",
    "    im = np.rot90(im, -1)\n",
    "    ax.imshow(im)\n",
    "    ax.axis('off')\n",
    "    ax.set_title(classes[out[i].argmax()])\n",
    "\n",
    "plt.show()"
   ]
  },
  {
   "cell_type": "code",
   "execution_count": null,
   "id": "3a1146d5-95a4-41b6-a4e7-46db04a59536",
   "metadata": {},
   "outputs": [],
   "source": []
  }
 ],
 "metadata": {
  "kernelspec": {
   "display_name": "Python 3 (ipykernel)",
   "language": "python",
   "name": "python3"
  },
  "language_info": {
   "codemirror_mode": {
    "name": "ipython",
    "version": 3
   },
   "file_extension": ".py",
   "mimetype": "text/x-python",
   "name": "python",
   "nbconvert_exporter": "python",
   "pygments_lexer": "ipython3",
   "version": "3.10.13"
  }
 },
 "nbformat": 4,
 "nbformat_minor": 5
}
