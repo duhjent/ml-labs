{
 "cells": [
  {
   "cell_type": "markdown",
   "metadata": {
    "id": "7CSxSzWKWsWm"
   },
   "source": [
    "# Imports and setup"
   ]
  },
  {
   "cell_type": "code",
   "execution_count": 3,
   "metadata": {
    "executionInfo": {
     "elapsed": 7866,
     "status": "ok",
     "timestamp": 1703144470822,
     "user": {
      "displayName": "Viktor Sabov",
      "userId": "15810640844580849012"
     },
     "user_tz": -120
    },
    "id": "rhW-x02MLsbQ"
   },
   "outputs": [],
   "source": [
    "import torch\n",
    "from torch import nn\n",
    "from torch.nn import functional as F\n",
    "import numpy as np\n",
    "import torchvision\n",
    "from torchvision import transforms\n",
    "from tqdm import tqdm\n",
    "import math\n",
    "import sys\n",
    "import os\n",
    "import matplotlib.pyplot as plt"
   ]
  },
  {
   "cell_type": "code",
   "execution_count": 4,
   "metadata": {
    "colab": {
     "base_uri": "https://localhost:8080/"
    },
    "executionInfo": {
     "elapsed": 24815,
     "status": "ok",
     "timestamp": 1703144495629,
     "user": {
      "displayName": "Viktor Sabov",
      "userId": "15810640844580849012"
     },
     "user_tz": -120
    },
    "id": "1b6dQUvZVWHm",
    "outputId": "7bd6370b-ec3e-41de-f136-a20413dd4a66"
   },
   "outputs": [],
   "source": [
    "if 'google.colab' in sys.modules:\n",
    "    from google.colab import drive\n",
    "    drive.mount('/content/drive')\n",
    "    BASE_DIR = '/content/drive/MyDrive/master/ml'\n",
    "else:\n",
    "    BASE_DIR = '.'\n",
    "\n",
    "DEVICE = 'cuda' if torch.cuda.is_available() else 'cpu'"
   ]
  },
  {
   "cell_type": "markdown",
   "metadata": {
    "id": "UE15btjTWvuy"
   },
   "source": [
    "# Model code"
   ]
  },
  {
   "cell_type": "code",
   "execution_count": 5,
   "metadata": {
    "executionInfo": {
     "elapsed": 14,
     "status": "ok",
     "timestamp": 1703144495630,
     "user": {
      "displayName": "Viktor Sabov",
      "userId": "15810640844580849012"
     },
     "user_tz": -120
    },
    "id": "45nK47seLfij"
   },
   "outputs": [],
   "source": [
    "class Flatten(nn.Module):\n",
    "    def forward(self, x):\n",
    "        return x.view(x.size(0), -1)\n",
    "\n",
    "\n",
    "class ConvBlock(nn.Module):\n",
    "    def __init__(self, C_in, C_out, kernel_size=3, stride=1, padding=1, dropout=None,\n",
    "                 pad_type='zero', dropout_pos='CDBR'):\n",
    "        super().__init__()\n",
    "        self.dropout_pos = dropout_pos\n",
    "        if pad_type == 'zero':\n",
    "            self.pad = nn.ZeroPad2d(padding)\n",
    "        elif pad_type == 'reflect':\n",
    "            # [!] the paper used reflect padding - just for data augmentation?\n",
    "            self.pad = nn.ReflectionPad2d(padding)\n",
    "        else:\n",
    "            raise ValueError(pad_type)\n",
    "\n",
    "        self.conv = nn.Conv2d(C_in, C_out, kernel_size, stride, padding=0, bias=False)\n",
    "        if dropout is not None and dropout > 0.:\n",
    "            self.dropout = nn.Dropout2d(p=dropout, inplace=True)\n",
    "        else:\n",
    "            self.dropout = None\n",
    "        self.bn = nn.BatchNorm2d(C_out)\n",
    "\n",
    "    def forward(self, x):\n",
    "        out = self.pad(x)\n",
    "        out = self.conv(out)\n",
    "        if self.dropout_pos == 'CDBR' and self.dropout:\n",
    "            out = self.dropout(out)\n",
    "        out = self.bn(out)\n",
    "        out = F.relu_(out)\n",
    "        if self.dropout_pos == 'CBRD' and self.dropout:\n",
    "            out = self.dropout(out)\n",
    "\n",
    "        return out\n",
    "\n",
    "\n",
    "class FractalBlock(nn.Module):\n",
    "    def __init__(self, n_columns, C_in, C_out, p_ldrop, p_dropout, pad_type='zero',\n",
    "                 doubling=False, dropout_pos='CDBR'):\n",
    "        super().__init__()\n",
    "\n",
    "        self.n_columns = n_columns\n",
    "        self.p_ldrop = p_ldrop\n",
    "        self.dropout_pos = dropout_pos\n",
    "        if dropout_pos == 'FD' and p_dropout > 0.:\n",
    "            self.dropout = nn.Dropout2d(p=p_dropout)\n",
    "            p_dropout = 0.\n",
    "        else:\n",
    "            self.dropout = None\n",
    "\n",
    "        if doubling:\n",
    "            self.doubler = ConvBlock(C_in, C_out, 1, padding=0)\n",
    "        else:\n",
    "            self.doubler = None\n",
    "\n",
    "        self.columns = nn.ModuleList([nn.ModuleList() for _ in range(n_columns)])\n",
    "        self.max_depth = 2 ** (n_columns-1)\n",
    "\n",
    "        dist = self.max_depth\n",
    "        self.count = np.zeros([self.max_depth], dtype=np.int32)\n",
    "        for col in self.columns:\n",
    "            for i in range(self.max_depth):\n",
    "                if (i+1) % dist == 0:\n",
    "                    first_block = (i+1 == dist) # first block in this column\n",
    "                    if first_block and not doubling:\n",
    "                        # if doubling, always input channel size is C_out.\n",
    "                        cur_C_in = C_in\n",
    "                    else:\n",
    "                        cur_C_in = C_out\n",
    "\n",
    "                    module = ConvBlock(cur_C_in, C_out, dropout=p_dropout, pad_type=pad_type,\n",
    "                                       dropout_pos=dropout_pos)\n",
    "                    self.count[i] += 1\n",
    "                else:\n",
    "                    module = None\n",
    "\n",
    "                col.append(module)\n",
    "\n",
    "            dist //= 2\n",
    "\n",
    "    def drop_mask(self, B, global_cols, n_cols):\n",
    "        # global drop mask\n",
    "        GB = global_cols.shape[0]\n",
    "        # calc gdrop cols / samples\n",
    "        gdrop_cols = global_cols - (self.n_columns - n_cols)\n",
    "        gdrop_indices = np.where(gdrop_cols >= 0)[0]\n",
    "        # gen gdrop mask\n",
    "        gdrop_mask = np.zeros([n_cols, GB], dtype=np.float32)\n",
    "        gdrop_mask[gdrop_cols[gdrop_indices], gdrop_indices] = 1.\n",
    "\n",
    "        # local drop mask\n",
    "        LB = B - GB\n",
    "        ldrop_mask = np.random.binomial(1, 1.-self.p_ldrop, [n_cols, LB]).astype(np.float32)\n",
    "        alive_count = ldrop_mask.sum(axis=0)\n",
    "        dead_indices = np.where(alive_count == 0.)[0]\n",
    "        ldrop_mask[np.random.randint(0, n_cols, size=dead_indices.shape), dead_indices] = 1.\n",
    "\n",
    "        drop_mask = np.concatenate((gdrop_mask, ldrop_mask), axis=1)\n",
    "        return torch.from_numpy(drop_mask)\n",
    "\n",
    "    def join(self, outs, global_cols):\n",
    "        n_cols = len(outs)\n",
    "        out = torch.stack(outs) # [n_cols, B, C, H, W]\n",
    "\n",
    "        if self.training:\n",
    "            mask = self.drop_mask(out.size(1), global_cols, n_cols).to(out.device) # [n_cols, B]\n",
    "            mask = mask.view(*mask.size(), 1, 1, 1) # unsqueeze to [n_cols, B, 1, 1, 1]\n",
    "            n_alive = mask.sum(dim=0) # [B, 1, 1, 1]\n",
    "            masked_out = out * mask # [n_cols, B, C, H, W]\n",
    "            n_alive[n_alive == 0.] = 1. # all-dead cases\n",
    "            out = masked_out.sum(dim=0) / n_alive # [B, C, H, W] / [B, 1, 1, 1]\n",
    "        else:\n",
    "            out = out.mean(dim=0) # no drop\n",
    "\n",
    "        return out\n",
    "\n",
    "    def forward(self, x, global_cols, deepest=False):\n",
    "        out = self.doubler(x) if self.doubler else x\n",
    "        outs = [out] * self.n_columns\n",
    "        for i in range(self.max_depth):\n",
    "            st = self.n_columns - self.count[i]\n",
    "            cur_outs = [] # outs of current depth\n",
    "            if deepest:\n",
    "                st = self.n_columns - 1 # last column only\n",
    "\n",
    "            for c in range(st, self.n_columns):\n",
    "                cur_in = outs[c] # current input\n",
    "                cur_module = self.columns[c][i] # current module\n",
    "                cur_outs.append(cur_module(cur_in))\n",
    "\n",
    "            # join\n",
    "            #print(\"join in depth = {}, # of in_join = {}\".format(i, len(cur_out)))\n",
    "            joined = self.join(cur_outs, global_cols)\n",
    "\n",
    "            for c in range(st, self.n_columns):\n",
    "                outs[c] = joined\n",
    "\n",
    "        if self.dropout_pos == 'FD' and self.dropout:\n",
    "            outs[-1] = self.dropout(outs[-1])\n",
    "\n",
    "        return outs[-1] # for deepest case\n",
    "\n",
    "\n",
    "class FractalNet(nn.Module):\n",
    "    def __init__(self, data_shape, n_columns, init_channels, p_ldrop, dropout_probs,\n",
    "                 gdrop_ratio, gap=0, init='xavier', pad_type='zero', doubling=False,\n",
    "                 consist_gdrop=True, dropout_pos='CDBR'):\n",
    "        super().__init__()\n",
    "        assert dropout_pos in ['CDBR', 'CBRD', 'FD']\n",
    "\n",
    "        self.B = len(dropout_probs) # the number of blocks\n",
    "        self.consist_gdrop = consist_gdrop\n",
    "        self.gdrop_ratio = gdrop_ratio\n",
    "        self.n_columns = n_columns\n",
    "        C_in, H, W, n_classes = data_shape\n",
    "\n",
    "        assert H == W\n",
    "        size = H\n",
    "\n",
    "        layers = nn.ModuleList()\n",
    "        C_out = init_channels\n",
    "        total_layers = 0\n",
    "        for b, p_dropout in enumerate(dropout_probs):\n",
    "            print(\"[block {}] Channel in = {}, Channel out = {}\".format(b, C_in, C_out))\n",
    "            fb = FractalBlock(n_columns, C_in, C_out, p_ldrop, p_dropout,\n",
    "                              pad_type=pad_type, doubling=doubling, dropout_pos=dropout_pos)\n",
    "            layers.append(fb)\n",
    "            if gap == 0 or b < self.B-1:\n",
    "                # Originally, every pool is max-pool in the paper (No GAP).\n",
    "                layers.append(nn.MaxPool2d(2))\n",
    "            elif gap == 1:\n",
    "                # last layer and gap == 1\n",
    "                layers.append(nn.AdaptiveAvgPool2d(1)) # average pooling\n",
    "\n",
    "            size //= 2\n",
    "            total_layers += fb.max_depth\n",
    "            C_in = C_out\n",
    "            if b < self.B-2:\n",
    "                C_out *= 2 # doubling except for last block\n",
    "\n",
    "        print(\"Last featuremap size = {}\".format(size))\n",
    "        print(\"Total layers = {}\".format(total_layers))\n",
    "\n",
    "        if gap == 2:\n",
    "            layers.append(nn.Conv2d(C_out, n_classes, 1, padding=0)) # 1x1 conv\n",
    "            layers.append(nn.AdaptiveAvgPool2d(1)) # gap\n",
    "            layers.append(Flatten())\n",
    "        else:\n",
    "            layers.append(Flatten())\n",
    "            layers.append(nn.Linear(C_out * size * size, n_classes)) # fc layer\n",
    "\n",
    "        self.layers = layers\n",
    "\n",
    "        # initialization\n",
    "        if init != 'torch':\n",
    "            initialize_ = {\n",
    "                'xavier': nn.init.xavier_uniform_,\n",
    "                'he': nn.init.kaiming_uniform_\n",
    "            }[init]\n",
    "\n",
    "            for n, p in self.named_parameters():\n",
    "                if p.dim() > 1: # weights only\n",
    "                    initialize_(p)\n",
    "                else: # bn w/b or bias\n",
    "                    if 'bn.weight' in n:\n",
    "                        nn.init.ones_(p)\n",
    "                    else:\n",
    "                        nn.init.zeros_(p)\n",
    "\n",
    "    def forward(self, x, deepest=False):\n",
    "        if deepest:\n",
    "            assert self.training is False\n",
    "        GB = int(x.size(0) * self.gdrop_ratio)\n",
    "        out = x\n",
    "        global_cols = None\n",
    "        for layer in self.layers:\n",
    "            if isinstance(layer, FractalBlock):\n",
    "                if not self.consist_gdrop or global_cols is None:\n",
    "                    global_cols = np.random.randint(0, self.n_columns, size=[GB])\n",
    "\n",
    "                out = layer(out, global_cols, deepest=deepest)\n",
    "            else:\n",
    "                out = layer(out)\n",
    "\n",
    "        return out"
   ]
  },
  {
   "cell_type": "markdown",
   "metadata": {
    "id": "co6Lj35CW0eh"
   },
   "source": [
    "# Load the data"
   ]
  },
  {
   "cell_type": "code",
   "execution_count": 6,
   "metadata": {
    "colab": {
     "base_uri": "https://localhost:8080/"
    },
    "executionInfo": {
     "elapsed": 13139,
     "status": "ok",
     "timestamp": 1703144508758,
     "user": {
      "displayName": "Viktor Sabov",
      "userId": "15810640844580849012"
     },
     "user_tz": -120
    },
    "id": "X0QyX2FWLnrQ",
    "outputId": "0527285c-4d77-43a3-849a-e5b711be6420"
   },
   "outputs": [
    {
     "name": "stdout",
     "output_type": "stream",
     "text": [
      "Downloading https://www.cs.toronto.edu/~kriz/cifar-10-python.tar.gz to ./data/cifar-10-python.tar.gz\n"
     ]
    },
    {
     "name": "stderr",
     "output_type": "stream",
     "text": [
      "100%|██████████| 170498071/170498071 [00:12<00:00, 13954677.11it/s]\n"
     ]
    },
    {
     "name": "stdout",
     "output_type": "stream",
     "text": [
      "Extracting ./data/cifar-10-python.tar.gz to ./data\n",
      "Files already downloaded and verified\n"
     ]
    }
   ],
   "source": [
    "transform = transforms.Compose(\n",
    "    [transforms.ToTensor(),\n",
    "     transforms.Normalize((0.5, 0.5, 0.5), (0.5, 0.5, 0.5))])\n",
    "\n",
    "batch_size = 64\n",
    "\n",
    "train_val_ds = torchvision.datasets.CIFAR10(root='./data', train=True,\n",
    "                                        download=True, transform=transform)\n",
    "\n",
    "train_ds, val_ds = torch.utils.data.random_split(train_val_ds, [.9, .1])\n",
    "\n",
    "train_dl = torch.utils.data.DataLoader(train_ds, batch_size=batch_size,\n",
    "                                          shuffle=True, num_workers=2)\n",
    "val_dl = torch.utils.data.DataLoader(val_ds, batch_size=batch_size,\n",
    "                                          shuffle=True, num_workers=2)\n",
    "\n",
    "test_ds = torchvision.datasets.CIFAR10(root='./data', train=False,\n",
    "                                       download=True, transform=transform)\n",
    "test_dl = torch.utils.data.DataLoader(test_ds, batch_size=batch_size,\n",
    "                                         shuffle=False, num_workers=2)\n",
    "\n",
    "classes = ('plane', 'car', 'bird', 'cat',\n",
    "           'deer', 'dog', 'frog', 'horse', 'ship', 'truck')"
   ]
  },
  {
   "cell_type": "markdown",
   "metadata": {
    "id": "YygxXsosW7TJ"
   },
   "source": [
    "# Create the model"
   ]
  },
  {
   "cell_type": "code",
   "execution_count": null,
   "metadata": {
    "colab": {
     "base_uri": "https://localhost:8080/"
    },
    "executionInfo": {
     "elapsed": 1992,
     "status": "ok",
     "timestamp": 1702535178896,
     "user": {
      "displayName": "Viktor Sabov",
      "userId": "15810640844580849012"
     },
     "user_tz": -120
    },
    "id": "Uoqfm7fiL8sc",
    "outputId": "ac840681-6072-4606-bd43-ec94a760279c"
   },
   "outputs": [
    {
     "name": "stdout",
     "output_type": "stream",
     "text": [
      "[block 0] Channel in = 3, Channel out = 64\n",
      "[block 1] Channel in = 64, Channel out = 128\n",
      "[block 2] Channel in = 128, Channel out = 256\n",
      "[block 3] Channel in = 256, Channel out = 512\n",
      "[block 4] Channel in = 512, Channel out = 512\n",
      "Last featuremap size = 1\n",
      "Total layers = 40\n"
     ]
    }
   ],
   "source": [
    "model = FractalNet(data_shape=(3,32,32,10), n_columns=4, init_channels=64, dropout_probs=[0, .1, .2, .3, .4], gdrop_ratio=.5, p_ldrop=.15, doubling=True, pad_type='reflect')"
   ]
  },
  {
   "cell_type": "markdown",
   "metadata": {
    "id": "6Zx4MbQoXCXu"
   },
   "source": [
    "# Main training loop"
   ]
  },
  {
   "cell_type": "code",
   "execution_count": null,
   "metadata": {
    "colab": {
     "base_uri": "https://localhost:8080/",
     "height": 1000
    },
    "executionInfo": {
     "elapsed": 8727819,
     "status": "error",
     "timestamp": 1702543906709,
     "user": {
      "displayName": "Viktor Sabov",
      "userId": "15810640844580849012"
     },
     "user_tz": -120
    },
    "id": "VaNMawAjMe4O",
    "outputId": "54da4922-2e7b-49d4-fab1-6353c894877a",
    "scrolled": true
   },
   "outputs": [
    {
     "name": "stderr",
     "output_type": "stream",
     "text": [
      "Epoch 1: 100%|██████████| 704/704 [00:52<00:00, 13.51batch/s, accuracy=0.125, loss=2.51] \n"
     ]
    },
    {
     "name": "stdout",
     "output_type": "stream",
     "text": [
      "done epoch 1 with results: loss=2.3448152086612852, val_loss=2.18374714670302\n"
     ]
    },
    {
     "name": "stderr",
     "output_type": "stream",
     "text": [
      "Epoch 2: 100%|██████████| 704/704 [00:50<00:00, 13.84batch/s, accuracy=0, loss=2.48]     \n"
     ]
    },
    {
     "name": "stdout",
     "output_type": "stream",
     "text": [
      "done epoch 2 with results: loss=2.057756345549768, val_loss=2.021042850953114\n"
     ]
    },
    {
     "name": "stderr",
     "output_type": "stream",
     "text": [
      "Epoch 3: 100%|██████████| 704/704 [00:52<00:00, 13.54batch/s, accuracy=0.125, loss=2.67] \n"
     ]
    },
    {
     "name": "stdout",
     "output_type": "stream",
     "text": [
      "done epoch 3 with results: loss=1.9710481395436958, val_loss=1.8749755545507503\n"
     ]
    },
    {
     "name": "stderr",
     "output_type": "stream",
     "text": [
      "Epoch 4: 100%|██████████| 704/704 [00:51<00:00, 13.79batch/s, accuracy=0.5, loss=1.55]  \n"
     ]
    },
    {
     "name": "stdout",
     "output_type": "stream",
     "text": [
      "done epoch 4 with results: loss=1.8851546006785198, val_loss=1.8265948220144343\n"
     ]
    },
    {
     "name": "stderr",
     "output_type": "stream",
     "text": [
      "Epoch 5: 100%|██████████| 704/704 [00:50<00:00, 13.86batch/s, accuracy=0.25, loss=1.9]  \n"
     ]
    },
    {
     "name": "stdout",
     "output_type": "stream",
     "text": [
      "done epoch 5 with results: loss=1.8035791778767651, val_loss=1.6485697317727004\n"
     ]
    },
    {
     "name": "stderr",
     "output_type": "stream",
     "text": [
      "Epoch 6: 100%|██████████| 704/704 [00:50<00:00, 14.01batch/s, accuracy=0.25, loss=1.81] \n"
     ]
    },
    {
     "name": "stdout",
     "output_type": "stream",
     "text": [
      "done epoch 6 with results: loss=1.7353116588836366, val_loss=1.5443047888671295\n"
     ]
    },
    {
     "name": "stderr",
     "output_type": "stream",
     "text": [
      "Epoch 7: 100%|██████████| 704/704 [00:52<00:00, 13.41batch/s, accuracy=0.375, loss=1.62]\n"
     ]
    },
    {
     "name": "stdout",
     "output_type": "stream",
     "text": [
      "done epoch 7 with results: loss=1.656755476004698, val_loss=1.4545998784560192\n"
     ]
    },
    {
     "name": "stderr",
     "output_type": "stream",
     "text": [
      "Epoch 8: 100%|██████████| 704/704 [00:52<00:00, 13.48batch/s, accuracy=0.5, loss=1.49]  \n"
     ]
    },
    {
     "name": "stdout",
     "output_type": "stream",
     "text": [
      "done epoch 8 with results: loss=1.596541621468284, val_loss=1.4745576909825773\n"
     ]
    },
    {
     "name": "stderr",
     "output_type": "stream",
     "text": [
      "Epoch 9: 100%|██████████| 704/704 [00:50<00:00, 13.87batch/s, accuracy=0.25, loss=1.99] \n"
     ]
    },
    {
     "name": "stdout",
     "output_type": "stream",
     "text": [
      "done epoch 9 with results: loss=1.5412865304811434, val_loss=1.3860403872743439\n"
     ]
    },
    {
     "name": "stderr",
     "output_type": "stream",
     "text": [
      "Epoch 10: 100%|██████████| 704/704 [00:50<00:00, 13.85batch/s, accuracy=0.375, loss=1.5] \n"
     ]
    },
    {
     "name": "stdout",
     "output_type": "stream",
     "text": [
      "done epoch 10 with results: loss=1.4844796567816625, val_loss=1.2438869853562946\n"
     ]
    },
    {
     "name": "stderr",
     "output_type": "stream",
     "text": [
      "Epoch 11: 100%|██████████| 704/704 [00:50<00:00, 13.90batch/s, accuracy=0.375, loss=1.49]\n"
     ]
    },
    {
     "name": "stdout",
     "output_type": "stream",
     "text": [
      "done epoch 11 with results: loss=1.430091472173279, val_loss=1.189201001125046\n"
     ]
    },
    {
     "name": "stderr",
     "output_type": "stream",
     "text": [
      "Epoch 12: 100%|██████████| 704/704 [00:50<00:00, 13.85batch/s, accuracy=0.125, loss=2.08]\n"
     ]
    },
    {
     "name": "stdout",
     "output_type": "stream",
     "text": [
      "done epoch 12 with results: loss=1.372490807859735, val_loss=1.178942629808112\n"
     ]
    },
    {
     "name": "stderr",
     "output_type": "stream",
     "text": [
      "Epoch 13: 100%|██████████| 704/704 [00:52<00:00, 13.41batch/s, accuracy=0.625, loss=1.76] \n"
     ]
    },
    {
     "name": "stdout",
     "output_type": "stream",
     "text": [
      "done epoch 13 with results: loss=1.320134736089544, val_loss=1.0824062643171866\n"
     ]
    },
    {
     "name": "stderr",
     "output_type": "stream",
     "text": [
      "Epoch 14: 100%|██████████| 704/704 [00:51<00:00, 13.70batch/s, accuracy=0.375, loss=1.78] \n"
     ]
    },
    {
     "name": "stdout",
     "output_type": "stream",
     "text": [
      "done epoch 14 with results: loss=1.2741520808671007, val_loss=0.9668427766123905\n"
     ]
    },
    {
     "name": "stderr",
     "output_type": "stream",
     "text": [
      "Epoch 15: 100%|██████████| 704/704 [00:51<00:00, 13.65batch/s, accuracy=0.375, loss=3.28] \n"
     ]
    },
    {
     "name": "stdout",
     "output_type": "stream",
     "text": [
      "done epoch 15 with results: loss=1.238149680197239, val_loss=0.9222342047510268\n"
     ]
    },
    {
     "name": "stderr",
     "output_type": "stream",
     "text": [
      "Epoch 16: 100%|██████████| 704/704 [00:52<00:00, 13.30batch/s, accuracy=0.125, loss=3.93] \n"
     ]
    },
    {
     "name": "stdout",
     "output_type": "stream",
     "text": [
      "done epoch 16 with results: loss=1.2005157824605703, val_loss=0.9160391394096085\n"
     ]
    },
    {
     "name": "stderr",
     "output_type": "stream",
     "text": [
      "Epoch 17: 100%|██████████| 704/704 [00:51<00:00, 13.80batch/s, accuracy=0.25, loss=1.74]  \n"
     ]
    },
    {
     "name": "stdout",
     "output_type": "stream",
     "text": [
      "done epoch 17 with results: loss=1.1686165361580523, val_loss=0.9036607432969009\n"
     ]
    },
    {
     "name": "stderr",
     "output_type": "stream",
     "text": [
      "Epoch 18: 100%|██████████| 704/704 [00:51<00:00, 13.78batch/s, accuracy=0.625, loss=1.1]  \n"
     ]
    },
    {
     "name": "stdout",
     "output_type": "stream",
     "text": [
      "done epoch 18 with results: loss=1.1254838329993866, val_loss=0.8247771549828445\n"
     ]
    },
    {
     "name": "stderr",
     "output_type": "stream",
     "text": [
      "Epoch 19: 100%|██████████| 704/704 [00:52<00:00, 13.47batch/s, accuracy=0.375, loss=2.19] \n"
     ]
    },
    {
     "name": "stdout",
     "output_type": "stream",
     "text": [
      "done epoch 19 with results: loss=1.0950964479283853, val_loss=0.8110028263888781\n"
     ]
    },
    {
     "name": "stderr",
     "output_type": "stream",
     "text": [
      "Epoch 20: 100%|██████████| 704/704 [00:52<00:00, 13.43batch/s, accuracy=0.5, loss=1.5]    \n"
     ]
    },
    {
     "name": "stdout",
     "output_type": "stream",
     "text": [
      "done epoch 20 with results: loss=1.06627243460918, val_loss=0.7683475681498081\n"
     ]
    },
    {
     "name": "stderr",
     "output_type": "stream",
     "text": [
      "Epoch 21: 100%|██████████| 704/704 [00:53<00:00, 13.15batch/s, accuracy=0.625, loss=1.45] \n"
     ]
    },
    {
     "name": "stdout",
     "output_type": "stream",
     "text": [
      "done epoch 21 with results: loss=1.0522566010159524, val_loss=0.7896854017354265\n"
     ]
    },
    {
     "name": "stderr",
     "output_type": "stream",
     "text": [
      "Epoch 22: 100%|██████████| 704/704 [00:54<00:00, 12.93batch/s, accuracy=0.75, loss=0.876] \n"
     ]
    },
    {
     "name": "stdout",
     "output_type": "stream",
     "text": [
      "done epoch 22 with results: loss=1.011689567345787, val_loss=0.7108049766172336\n"
     ]
    },
    {
     "name": "stderr",
     "output_type": "stream",
     "text": [
      "Epoch 23: 100%|██████████| 704/704 [00:52<00:00, 13.42batch/s, accuracy=0.375, loss=2.56] \n"
     ]
    },
    {
     "name": "stdout",
     "output_type": "stream",
     "text": [
      "done epoch 23 with results: loss=0.9966350643133576, val_loss=0.6886016130447388\n"
     ]
    },
    {
     "name": "stderr",
     "output_type": "stream",
     "text": [
      "Epoch 24: 100%|██████████| 704/704 [00:52<00:00, 13.52batch/s, accuracy=0.625, loss=1.44] \n"
     ]
    },
    {
     "name": "stdout",
     "output_type": "stream",
     "text": [
      "done epoch 24 with results: loss=0.9713705955919895, val_loss=0.6673706909523734\n"
     ]
    },
    {
     "name": "stderr",
     "output_type": "stream",
     "text": [
      "Epoch 25: 100%|██████████| 704/704 [00:52<00:00, 13.46batch/s, accuracy=0.5, loss=0.86]   \n"
     ]
    },
    {
     "name": "stdout",
     "output_type": "stream",
     "text": [
      "done epoch 25 with results: loss=0.9481534758074717, val_loss=0.6659052775630468\n"
     ]
    },
    {
     "name": "stderr",
     "output_type": "stream",
     "text": [
      "Epoch 26: 100%|██████████| 704/704 [00:52<00:00, 13.54batch/s, accuracy=0.625, loss=1.45] \n"
     ]
    },
    {
     "name": "stdout",
     "output_type": "stream",
     "text": [
      "done epoch 26 with results: loss=0.922534991055727, val_loss=0.6422026628934885\n"
     ]
    },
    {
     "name": "stderr",
     "output_type": "stream",
     "text": [
      "Epoch 27: 100%|██████████| 704/704 [00:52<00:00, 13.52batch/s, accuracy=0.375, loss=1.38] \n"
     ]
    },
    {
     "name": "stdout",
     "output_type": "stream",
     "text": [
      "done epoch 27 with results: loss=0.9074548560787331, val_loss=0.690162715089472\n"
     ]
    },
    {
     "name": "stderr",
     "output_type": "stream",
     "text": [
      "Epoch 28: 100%|██████████| 704/704 [00:51<00:00, 13.75batch/s, accuracy=0.625, loss=1.02] \n"
     ]
    },
    {
     "name": "stdout",
     "output_type": "stream",
     "text": [
      "done epoch 28 with results: loss=0.8916839765046131, val_loss=0.6097801810578455\n"
     ]
    },
    {
     "name": "stderr",
     "output_type": "stream",
     "text": [
      "Epoch 29: 100%|██████████| 704/704 [00:50<00:00, 13.94batch/s, accuracy=0.625, loss=2.32] \n"
     ]
    },
    {
     "name": "stdout",
     "output_type": "stream",
     "text": [
      "done epoch 29 with results: loss=0.8658941024914384, val_loss=0.5821946636785434\n"
     ]
    },
    {
     "name": "stderr",
     "output_type": "stream",
     "text": [
      "Epoch 30: 100%|██████████| 704/704 [00:51<00:00, 13.56batch/s, accuracy=0.625, loss=1.39] \n"
     ]
    },
    {
     "name": "stdout",
     "output_type": "stream",
     "text": [
      "done epoch 30 with results: loss=0.8468260453929278, val_loss=0.5907765517506418\n"
     ]
    },
    {
     "name": "stderr",
     "output_type": "stream",
     "text": [
      "Epoch 31: 100%|██████████| 704/704 [00:52<00:00, 13.51batch/s, accuracy=0.625, loss=1.26] \n"
     ]
    },
    {
     "name": "stdout",
     "output_type": "stream",
     "text": [
      "done epoch 31 with results: loss=0.8375489291396331, val_loss=0.5758595425116865\n"
     ]
    },
    {
     "name": "stderr",
     "output_type": "stream",
     "text": [
      "Epoch 32: 100%|██████████| 704/704 [00:50<00:00, 13.92batch/s, accuracy=0.5, loss=1.73]   \n"
     ]
    },
    {
     "name": "stdout",
     "output_type": "stream",
     "text": [
      "done epoch 32 with results: loss=0.8180258465422825, val_loss=0.5772029704685453\n"
     ]
    },
    {
     "name": "stderr",
     "output_type": "stream",
     "text": [
      "Epoch 33: 100%|██████████| 704/704 [00:53<00:00, 13.20batch/s, accuracy=0.5, loss=1.36]   \n"
     ]
    },
    {
     "name": "stdout",
     "output_type": "stream",
     "text": [
      "done epoch 33 with results: loss=0.8022606007924135, val_loss=0.5421543611755854\n"
     ]
    },
    {
     "name": "stderr",
     "output_type": "stream",
     "text": [
      "Epoch 34: 100%|██████████| 704/704 [00:54<00:00, 12.94batch/s, accuracy=0.375, loss=1.87] \n"
     ]
    },
    {
     "name": "stdout",
     "output_type": "stream",
     "text": [
      "done epoch 34 with results: loss=0.7886430243538185, val_loss=0.529790635161762\n"
     ]
    },
    {
     "name": "stderr",
     "output_type": "stream",
     "text": [
      "Epoch 35: 100%|██████████| 704/704 [00:54<00:00, 12.99batch/s, accuracy=0.375, loss=2.41] \n"
     ]
    },
    {
     "name": "stdout",
     "output_type": "stream",
     "text": [
      "done epoch 35 with results: loss=0.7787354472093284, val_loss=0.5256614967992034\n"
     ]
    },
    {
     "name": "stderr",
     "output_type": "stream",
     "text": [
      "Epoch 36: 100%|██████████| 704/704 [00:54<00:00, 12.99batch/s, accuracy=0.625, loss=0.983]\n"
     ]
    },
    {
     "name": "stdout",
     "output_type": "stream",
     "text": [
      "done epoch 36 with results: loss=0.7560516484505073, val_loss=0.5259100904193106\n"
     ]
    },
    {
     "name": "stderr",
     "output_type": "stream",
     "text": [
      "Epoch 37: 100%|██████████| 704/704 [00:53<00:00, 13.10batch/s, accuracy=0.625, loss=2.68] \n"
     ]
    },
    {
     "name": "stdout",
     "output_type": "stream",
     "text": [
      "done epoch 37 with results: loss=0.7526959451762113, val_loss=0.5009150046713745\n"
     ]
    },
    {
     "name": "stderr",
     "output_type": "stream",
     "text": [
      "Epoch 38: 100%|██████████| 704/704 [00:52<00:00, 13.31batch/s, accuracy=0.75, loss=0.641] \n"
     ]
    },
    {
     "name": "stdout",
     "output_type": "stream",
     "text": [
      "done epoch 38 with results: loss=0.7371998209167611, val_loss=0.520189848504489\n"
     ]
    },
    {
     "name": "stderr",
     "output_type": "stream",
     "text": [
      "Epoch 39: 100%|██████████| 704/704 [00:52<00:00, 13.34batch/s, accuracy=0.625, loss=1.01] \n"
     ]
    },
    {
     "name": "stdout",
     "output_type": "stream",
     "text": [
      "done epoch 39 with results: loss=0.7254467635330829, val_loss=0.5192214469366436\n"
     ]
    },
    {
     "name": "stderr",
     "output_type": "stream",
     "text": [
      "Epoch 40: 100%|██████████| 704/704 [00:54<00:00, 12.99batch/s, accuracy=0.5, loss=0.88]   \n"
     ]
    },
    {
     "name": "stdout",
     "output_type": "stream",
     "text": [
      "done epoch 40 with results: loss=0.7139741745777428, val_loss=0.4880635730827911\n"
     ]
    },
    {
     "name": "stderr",
     "output_type": "stream",
     "text": [
      "Epoch 41: 100%|██████████| 704/704 [00:53<00:00, 13.06batch/s, accuracy=0.75, loss=1.3]   \n"
     ]
    },
    {
     "name": "stdout",
     "output_type": "stream",
     "text": [
      "done epoch 41 with results: loss=0.7022947768934749, val_loss=0.48525593288337127\n"
     ]
    },
    {
     "name": "stderr",
     "output_type": "stream",
     "text": [
      "Epoch 42: 100%|██████████| 704/704 [00:53<00:00, 13.22batch/s, accuracy=0.75, loss=0.3]   \n"
     ]
    },
    {
     "name": "stdout",
     "output_type": "stream",
     "text": [
      "done epoch 42 with results: loss=0.6830232667906041, val_loss=0.4680352422255504\n"
     ]
    },
    {
     "name": "stderr",
     "output_type": "stream",
     "text": [
      "Epoch 43: 100%|██████████| 704/704 [00:51<00:00, 13.71batch/s, accuracy=0.625, loss=1.66] \n"
     ]
    },
    {
     "name": "stdout",
     "output_type": "stream",
     "text": [
      "done epoch 43 with results: loss=0.6799747786399993, val_loss=0.48836660950998717\n"
     ]
    },
    {
     "name": "stderr",
     "output_type": "stream",
     "text": [
      "Epoch 44: 100%|██████████| 704/704 [00:52<00:00, 13.44batch/s, accuracy=0.75, loss=0.593] \n"
     ]
    },
    {
     "name": "stdout",
     "output_type": "stream",
     "text": [
      "done epoch 44 with results: loss=0.6609574715945531, val_loss=0.4649678861038594\n"
     ]
    },
    {
     "name": "stderr",
     "output_type": "stream",
     "text": [
      "Epoch 45: 100%|██████████| 704/704 [00:52<00:00, 13.32batch/s, accuracy=0.875, loss=0.876]\n"
     ]
    },
    {
     "name": "stdout",
     "output_type": "stream",
     "text": [
      "done epoch 45 with results: loss=0.6488283248618245, val_loss=0.46467755885818335\n"
     ]
    },
    {
     "name": "stderr",
     "output_type": "stream",
     "text": [
      "Epoch 46: 100%|██████████| 704/704 [00:51<00:00, 13.70batch/s, accuracy=0.625, loss=1.08] \n"
     ]
    },
    {
     "name": "stdout",
     "output_type": "stream",
     "text": [
      "done epoch 46 with results: loss=0.6436430973593484, val_loss=0.45449912623514105\n"
     ]
    },
    {
     "name": "stderr",
     "output_type": "stream",
     "text": [
      "Epoch 47: 100%|██████████| 704/704 [00:52<00:00, 13.44batch/s, accuracy=0.875, loss=0.227]\n"
     ]
    },
    {
     "name": "stdout",
     "output_type": "stream",
     "text": [
      "done epoch 47 with results: loss=0.627423993946815, val_loss=0.4614124894142151\n"
     ]
    },
    {
     "name": "stderr",
     "output_type": "stream",
     "text": [
      "Epoch 48: 100%|██████████| 704/704 [00:52<00:00, 13.34batch/s, accuracy=0.875, loss=0.686]\n"
     ]
    },
    {
     "name": "stdout",
     "output_type": "stream",
     "text": [
      "done epoch 48 with results: loss=0.6182344722222876, val_loss=0.443414298416693\n"
     ]
    },
    {
     "name": "stderr",
     "output_type": "stream",
     "text": [
      "Epoch 49: 100%|██████████| 704/704 [00:53<00:00, 13.18batch/s, accuracy=0.75, loss=0.982] \n"
     ]
    },
    {
     "name": "stdout",
     "output_type": "stream",
     "text": [
      "done epoch 49 with results: loss=0.612089383373545, val_loss=0.42861173462264146\n"
     ]
    },
    {
     "name": "stderr",
     "output_type": "stream",
     "text": [
      "Epoch 50: 100%|██████████| 704/704 [00:52<00:00, 13.36batch/s, accuracy=0.75, loss=1.08]  \n"
     ]
    },
    {
     "name": "stdout",
     "output_type": "stream",
     "text": [
      "done epoch 50 with results: loss=0.6029528432356362, val_loss=0.439981876860691\n"
     ]
    }
   ],
   "source": [
    "num_epochs = 50\n",
    "file_label = 'adam-50-cifar10'\n",
    "\n",
    "model = model.to(DEVICE)\n",
    "\n",
    "if os.path.exists(f'{BASE_DIR}/checkpoints/savepoint-{file_label}.pt'):\n",
    "    model.load_state_dict(torch.load(f'{BASE_DIR}/checkpoints/savepoint-{file_label}.pt'))\n",
    "    history = torch.load(f'{BASE_DIR}/checkpoints/history-{file_label}.pt')\n",
    "else:\n",
    "    history = {\n",
    "        'loss': [],\n",
    "        'val_loss': []\n",
    "    }\n",
    "\n",
    "num_epochs_completed = len(history['loss'])\n",
    "\n",
    "criterion = nn.CrossEntropyLoss().to(DEVICE)\n",
    "optimizer = torch.optim.Adam(model.parameters())\n",
    "\n",
    "for epoch in range(num_epochs_completed+1, num_epochs+1):\n",
    "    with tqdm(train_dl, unit='batch') as tepoch:\n",
    "        epoch_losses = []\n",
    "        model.train()\n",
    "        for data, target in tepoch:\n",
    "            tepoch.set_description(f\"Epoch {epoch}\")\n",
    "\n",
    "            data, target = data.to(DEVICE), F.one_hot(target, 10).float().to(DEVICE)\n",
    "            optimizer.zero_grad()\n",
    "            out = model(data)\n",
    "            loss = criterion(out, target)\n",
    "            loss.backward()\n",
    "            optimizer.step()\n",
    "            epoch_losses.append(loss.item())\n",
    "\n",
    "            correct = (out.argmax(1) == target.argmax(1)).sum().item()\n",
    "            accuracy = correct / len(target)\n",
    "\n",
    "            tepoch.set_postfix(loss=loss.item(), accuracy=accuracy)\n",
    "    epoch_mean_loss = sum(epoch_losses) / len(epoch_losses)\n",
    "    history['loss'].append(epoch_mean_loss)\n",
    "\n",
    "    with torch.no_grad():\n",
    "        epoch_val_losses = []\n",
    "        model.eval()\n",
    "        for data, target in val_dl:\n",
    "            data, target = data.to(DEVICE), F.one_hot(target, 10).float().to(DEVICE)\n",
    "            out = model(data)\n",
    "            loss = criterion(out, target)\n",
    "            epoch_val_losses.append(loss.item())\n",
    "        epoch_mean_val_loss = sum(epoch_val_losses) / len(epoch_val_losses)\n",
    "        history['val_loss'].append(epoch_mean_val_loss)\n",
    "\n",
    "    torch.save(model.state_dict(), f'{BASE_DIR}/checkpoints/savepoint-{file_label}.pt')\n",
    "    torch.save(history, f'{BASE_DIR}/checkpoints/history-{file_label}.pt')\n",
    "\n",
    "    print(f'done epoch {epoch} with results: loss={epoch_mean_loss}, val_loss={epoch_mean_val_loss}')"
   ]
  },
  {
   "cell_type": "code",
   "execution_count": null,
   "metadata": {
    "executionInfo": {
     "elapsed": 7,
     "status": "aborted",
     "timestamp": 1702543906710,
     "user": {
      "displayName": "Viktor Sabov",
      "userId": "15810640844580849012"
     },
     "user_tz": -120
    },
    "id": "tQQQ1aq7RAmU",
    "outputId": "b1686e28-e50f-4a28-8bed-596e527d2fa5"
   },
   "outputs": [
    {
     "data": {
      "image/png": "[encoded data removed]",
      "text/plain": [
       "<Figure size 640x480 with 1 Axes>"
      ]
     },
     "metadata": {},
     "output_type": "display_data"
    }
   ],
   "source": [
    "plt.plot(history['loss'], label='train')\n",
    "plt.plot(history['val_loss'], label='val')\n",
    "\n",
    "plt.legend()\n",
    "\n",
    "plt.show()"
   ]
  },
  {
   "cell_type": "code",
   "execution_count": null,
   "metadata": {
    "id": "4DWc5Ku9PhyI",
    "outputId": "94ef23f7-ea6f-48c2-96d5-f0aad756b114"
   },
   "outputs": [
    {
     "data": {
      "text/plain": [
       "(0.4413763201160795, 0.8484275477707006)"
      ]
     },
     "execution_count": 17,
     "metadata": {},
     "output_type": "execute_result"
    }
   ],
   "source": [
    "test_losses = []\n",
    "test_acc = []\n",
    "with torch.no_grad():\n",
    "    model = model.eval()\n",
    "    for data, label in test_dl:\n",
    "        data, label = data.to(DEVICE), F.one_hot(label, 10).float().to(DEVICE)\n",
    "        out = model(data)\n",
    "\n",
    "        loss = criterion(out, label)\n",
    "        test_losses.append(loss.item())\n",
    "\n",
    "        correct = (out.argmax(1) == label.argmax(1)).sum().item()\n",
    "        accuracy = correct / len(label)\n",
    "        test_acc.append(accuracy)\n",
    "\n",
    "sum(test_losses) / len(test_losses), sum(test_acc) / len(test_acc)"
   ]
  },
  {
   "cell_type": "markdown",
   "metadata": {
    "id": "4NwdHh-LT-ZQ"
   },
   "source": [
    "# Try with GAP"
   ]
  },
  {
   "cell_type": "code",
   "execution_count": 7,
   "metadata": {
    "colab": {
     "base_uri": "https://localhost:8080/",
     "height": 686
    },
    "executionInfo": {
     "elapsed": 439542,
     "status": "error",
     "timestamp": 1703144948290,
     "user": {
      "displayName": "Viktor Sabov",
      "userId": "15810640844580849012"
     },
     "user_tz": -120
    },
    "id": "eo4iYJv8UUtd",
    "outputId": "ab1ccf81-f4f0-4dec-b1c6-b86d830d9785",
    "scrolled": true
   },
   "outputs": [
    {
     "name": "stdout",
     "output_type": "stream",
     "text": [
      "[block 0] Channel in = 3, Channel out = 64\n",
      "[block 1] Channel in = 64, Channel out = 128\n",
      "[block 2] Channel in = 128, Channel out = 256\n",
      "[block 3] Channel in = 256, Channel out = 512\n",
      "[block 4] Channel in = 512, Channel out = 512\n",
      "Last featuremap size = 1\n",
      "Total layers = 40\n"
     ]
    },
    {
     "name": "stderr",
     "output_type": "stream",
     "text": [
      "Epoch 1: 100%|██████████| 704/704 [00:38<00:00, 18.51batch/s, accuracy=0.125, loss=2.59] \n"
     ]
    },
    {
     "name": "stdout",
     "output_type": "stream",
     "text": [
      "done epoch 1 with results: loss=2.263204485855319, val_loss=2.3093143656283996\n"
     ]
    },
    {
     "name": "stderr",
     "output_type": "stream",
     "text": [
      "Epoch 2: 100%|██████████| 704/704 [00:36<00:00, 19.10batch/s, accuracy=0.25, loss=1.95]  \n"
     ]
    },
    {
     "name": "stdout",
     "output_type": "stream",
     "text": [
      "done epoch 2 with results: loss=2.07016288573769, val_loss=2.0085264127465745\n"
     ]
    },
    {
     "name": "stderr",
     "output_type": "stream",
     "text": [
      "Epoch 3: 100%|██████████| 704/704 [00:36<00:00, 19.12batch/s, accuracy=0.125, loss=1.92]\n"
     ]
    },
    {
     "name": "stdout",
     "output_type": "stream",
     "text": [
      "done epoch 3 with results: loss=1.9201450669630007, val_loss=1.9425180229959609\n"
     ]
    },
    {
     "name": "stderr",
     "output_type": "stream",
     "text": [
      "Epoch 4: 100%|██████████| 704/704 [00:36<00:00, 19.03batch/s, accuracy=0.25, loss=1.58] \n"
     ]
    },
    {
     "name": "stdout",
     "output_type": "stream",
     "text": [
      "done epoch 4 with results: loss=1.855070192705501, val_loss=1.8547535817834395\n"
     ]
    },
    {
     "name": "stderr",
     "output_type": "stream",
     "text": [
      "Epoch 5: 100%|██████████| 704/704 [00:37<00:00, 18.94batch/s, accuracy=0.5, loss=1.61]  \n"
     ]
    },
    {
     "name": "stdout",
     "output_type": "stream",
     "text": [
      "done epoch 5 with results: loss=1.803309264677492, val_loss=1.8008879543859748\n"
     ]
    },
    {
     "name": "stderr",
     "output_type": "stream",
     "text": [
      "Epoch 6: 100%|██████████| 704/704 [00:36<00:00, 19.05batch/s, accuracy=0.25, loss=2.21] \n"
     ]
    },
    {
     "name": "stdout",
     "output_type": "stream",
     "text": [
      "done epoch 6 with results: loss=1.7240474039519376, val_loss=1.6760776299464553\n"
     ]
    },
    {
     "name": "stderr",
     "output_type": "stream",
     "text": [
      "Epoch 7: 100%|██████████| 704/704 [00:36<00:00, 19.45batch/s, accuracy=0.25, loss=1.55] \n"
     ]
    },
    {
     "name": "stdout",
     "output_type": "stream",
     "text": [
      "done epoch 7 with results: loss=1.6388705662367018, val_loss=1.5536769206010843\n"
     ]
    },
    {
     "name": "stderr",
     "output_type": "stream",
     "text": [
      "Epoch 8: 100%|██████████| 704/704 [00:36<00:00, 19.31batch/s, accuracy=0.5, loss=1.4]   \n"
     ]
    },
    {
     "name": "stdout",
     "output_type": "stream",
     "text": [
      "done epoch 8 with results: loss=1.5857182841070674, val_loss=1.5692776441574097\n"
     ]
    },
    {
     "name": "stderr",
     "output_type": "stream",
     "text": [
      "Epoch 9: 100%|██████████| 704/704 [00:36<00:00, 19.51batch/s, accuracy=0.375, loss=1.62]\n"
     ]
    },
    {
     "name": "stdout",
     "output_type": "stream",
     "text": [
      "done epoch 9 with results: loss=1.5241180411116644, val_loss=1.5433041898510125\n"
     ]
    },
    {
     "name": "stderr",
     "output_type": "stream",
     "text": [
      "Epoch 10: 100%|██████████| 704/704 [00:36<00:00, 19.20batch/s, accuracy=0.375, loss=1.53]\n"
     ]
    },
    {
     "name": "stdout",
     "output_type": "stream",
     "text": [
      "done epoch 10 with results: loss=1.4714368729090148, val_loss=1.3794742219055756\n"
     ]
    },
    {
     "name": "stderr",
     "output_type": "stream",
     "text": [
      "Epoch 11: 100%|██████████| 704/704 [00:36<00:00, 19.35batch/s, accuracy=0.5, loss=1.88]  \n"
     ]
    },
    {
     "name": "stdout",
     "output_type": "stream",
     "text": [
      "done epoch 11 with results: loss=1.421016268262809, val_loss=1.3349186891241918\n"
     ]
    },
    {
     "name": "stderr",
     "output_type": "stream",
     "text": [
      "Epoch 12: 100%|██████████| 704/704 [00:36<00:00, 19.45batch/s, accuracy=0.375, loss=1.38] \n"
     ]
    },
    {
     "name": "stdout",
     "output_type": "stream",
     "text": [
      "done epoch 12 with results: loss=1.3621836302971297, val_loss=1.235157184962985\n"
     ]
    },
    {
     "name": "stderr",
     "output_type": "stream",
     "text": [
      "Epoch 13: 100%|██████████| 704/704 [00:37<00:00, 18.95batch/s, accuracy=0.625, loss=1.75] \n"
     ]
    },
    {
     "name": "stdout",
     "output_type": "stream",
     "text": [
      "done epoch 13 with results: loss=1.311685825613412, val_loss=1.1124377122408227\n"
     ]
    },
    {
     "name": "stderr",
     "output_type": "stream",
     "text": [
      "Epoch 14: 100%|██████████| 704/704 [00:36<00:00, 19.16batch/s, accuracy=0.625, loss=0.872]\n"
     ]
    },
    {
     "name": "stdout",
     "output_type": "stream",
     "text": [
      "done epoch 14 with results: loss=1.260409127412872, val_loss=1.1477912204175056\n"
     ]
    },
    {
     "name": "stderr",
     "output_type": "stream",
     "text": [
      "Epoch 15: 100%|██████████| 704/704 [00:36<00:00, 19.41batch/s, accuracy=0.5, loss=1.85]   \n"
     ]
    },
    {
     "name": "stdout",
     "output_type": "stream",
     "text": [
      "done epoch 15 with results: loss=1.2146325826814228, val_loss=1.050548471981966\n"
     ]
    },
    {
     "name": "stderr",
     "output_type": "stream",
     "text": [
      "Epoch 16: 100%|██████████| 704/704 [00:36<00:00, 19.36batch/s, accuracy=0.125, loss=2.26] \n"
     ]
    },
    {
     "name": "stdout",
     "output_type": "stream",
     "text": [
      "done epoch 16 with results: loss=1.1766452562402596, val_loss=0.9849200248718262\n"
     ]
    },
    {
     "name": "stderr",
     "output_type": "stream",
     "text": [
      "Epoch 17: 100%|██████████| 704/704 [00:36<00:00, 19.13batch/s, accuracy=0.5, loss=1.44]   \n"
     ]
    },
    {
     "name": "stdout",
     "output_type": "stream",
     "text": [
      "done epoch 17 with results: loss=1.1372200934724375, val_loss=0.966818755940546\n"
     ]
    },
    {
     "name": "stderr",
     "output_type": "stream",
     "text": [
      "Epoch 18: 100%|██████████| 704/704 [00:36<00:00, 19.11batch/s, accuracy=0.25, loss=0.968] \n"
     ]
    },
    {
     "name": "stdout",
     "output_type": "stream",
     "text": [
      "done epoch 18 with results: loss=1.1084444012323564, val_loss=0.9486566932895516\n"
     ]
    },
    {
     "name": "stderr",
     "output_type": "stream",
     "text": [
      "Epoch 19: 100%|██████████| 704/704 [00:36<00:00, 19.17batch/s, accuracy=0.625, loss=1.1]  \n"
     ]
    },
    {
     "name": "stdout",
     "output_type": "stream",
     "text": [
      "done epoch 19 with results: loss=1.0715408555485986, val_loss=0.8984004078032095\n"
     ]
    },
    {
     "name": "stderr",
     "output_type": "stream",
     "text": [
      "Epoch 20: 100%|██████████| 704/704 [00:37<00:00, 19.02batch/s, accuracy=0.625, loss=1.14] \n"
     ]
    },
    {
     "name": "stdout",
     "output_type": "stream",
     "text": [
      "done epoch 20 with results: loss=1.04431228636002, val_loss=0.8610494283935691\n"
     ]
    },
    {
     "name": "stderr",
     "output_type": "stream",
     "text": [
      "Epoch 21: 100%|██████████| 704/704 [00:36<00:00, 19.16batch/s, accuracy=0.75, loss=0.695] \n"
     ]
    },
    {
     "name": "stdout",
     "output_type": "stream",
     "text": [
      "done epoch 21 with results: loss=1.0085091360590674, val_loss=0.8310554676418063\n"
     ]
    },
    {
     "name": "stderr",
     "output_type": "stream",
     "text": [
      "Epoch 22: 100%|██████████| 704/704 [00:36<00:00, 19.07batch/s, accuracy=0.5, loss=1.38]   \n"
     ]
    },
    {
     "name": "stdout",
     "output_type": "stream",
     "text": [
      "done epoch 22 with results: loss=0.9916464663534001, val_loss=0.8113732171964042\n"
     ]
    },
    {
     "name": "stderr",
     "output_type": "stream",
     "text": [
      "Epoch 23: 100%|██████████| 704/704 [00:36<00:00, 19.05batch/s, accuracy=0.625, loss=0.979]\n"
     ]
    },
    {
     "name": "stdout",
     "output_type": "stream",
     "text": [
      "done epoch 23 with results: loss=0.9654793964529579, val_loss=0.7649637253224095\n"
     ]
    },
    {
     "name": "stderr",
     "output_type": "stream",
     "text": [
      "Epoch 24: 100%|██████████| 704/704 [00:37<00:00, 18.95batch/s, accuracy=0.375, loss=1.95] \n"
     ]
    },
    {
     "name": "stdout",
     "output_type": "stream",
     "text": [
      "done epoch 24 with results: loss=0.9441735833375291, val_loss=0.7556112680254103\n"
     ]
    },
    {
     "name": "stderr",
     "output_type": "stream",
     "text": [
      "Epoch 25: 100%|██████████| 704/704 [00:36<00:00, 19.11batch/s, accuracy=0.75, loss=1.06]  \n"
     ]
    },
    {
     "name": "stdout",
     "output_type": "stream",
     "text": [
      "done epoch 25 with results: loss=0.9231053810058669, val_loss=0.733603638561466\n"
     ]
    },
    {
     "name": "stderr",
     "output_type": "stream",
     "text": [
      "Epoch 26: 100%|██████████| 704/704 [00:36<00:00, 19.20batch/s, accuracy=1, loss=0.245]    \n"
     ]
    },
    {
     "name": "stdout",
     "output_type": "stream",
     "text": [
      "done epoch 26 with results: loss=0.900328338061544, val_loss=0.7258681949180893\n"
     ]
    },
    {
     "name": "stderr",
     "output_type": "stream",
     "text": [
      "Epoch 27: 100%|██████████| 704/704 [00:36<00:00, 19.29batch/s, accuracy=0.625, loss=1.17] \n"
     ]
    },
    {
     "name": "stdout",
     "output_type": "stream",
     "text": [
      "done epoch 27 with results: loss=0.8866720545020971, val_loss=0.701165149106255\n"
     ]
    },
    {
     "name": "stderr",
     "output_type": "stream",
     "text": [
      "Epoch 28: 100%|██████████| 704/704 [00:37<00:00, 18.81batch/s, accuracy=0.625, loss=1.4]  \n"
     ]
    },
    {
     "name": "stdout",
     "output_type": "stream",
     "text": [
      "done epoch 28 with results: loss=0.8605822820893743, val_loss=0.6704189532165286\n"
     ]
    },
    {
     "name": "stderr",
     "output_type": "stream",
     "text": [
      "Epoch 29: 100%|██████████| 704/704 [00:37<00:00, 18.90batch/s, accuracy=0.75, loss=0.602] \n"
     ]
    },
    {
     "name": "stdout",
     "output_type": "stream",
     "text": [
      "done epoch 29 with results: loss=0.8473866699178788, val_loss=0.6838789080517201\n"
     ]
    },
    {
     "name": "stderr",
     "output_type": "stream",
     "text": [
      "Epoch 30: 100%|██████████| 704/704 [00:36<00:00, 19.06batch/s, accuracy=0.75, loss=0.887] \n"
     ]
    },
    {
     "name": "stdout",
     "output_type": "stream",
     "text": [
      "done epoch 30 with results: loss=0.8264998232268475, val_loss=0.6625815980796572\n"
     ]
    },
    {
     "name": "stderr",
     "output_type": "stream",
     "text": [
      "Epoch 31: 100%|██████████| 704/704 [00:37<00:00, 18.92batch/s, accuracy=0.875, loss=0.468]\n"
     ]
    },
    {
     "name": "stdout",
     "output_type": "stream",
     "text": [
      "done epoch 31 with results: loss=0.8077161184258081, val_loss=0.6549821903433981\n"
     ]
    },
    {
     "name": "stderr",
     "output_type": "stream",
     "text": [
      "Epoch 32: 100%|██████████| 704/704 [00:36<00:00, 19.19batch/s, accuracy=0.625, loss=1.04] \n"
     ]
    },
    {
     "name": "stdout",
     "output_type": "stream",
     "text": [
      "done epoch 32 with results: loss=0.7913306016813625, val_loss=0.6451644531533688\n"
     ]
    },
    {
     "name": "stderr",
     "output_type": "stream",
     "text": [
      "Epoch 33: 100%|██████████| 704/704 [00:36<00:00, 19.14batch/s, accuracy=0.625, loss=0.995]\n"
     ]
    },
    {
     "name": "stdout",
     "output_type": "stream",
     "text": [
      "done epoch 33 with results: loss=0.7718472972258248, val_loss=0.6270612953584406\n"
     ]
    },
    {
     "name": "stderr",
     "output_type": "stream",
     "text": [
      "Epoch 34: 100%|██████████| 704/704 [00:36<00:00, 19.13batch/s, accuracy=0.5, loss=1.42]   \n"
     ]
    },
    {
     "name": "stdout",
     "output_type": "stream",
     "text": [
      "done epoch 34 with results: loss=0.7577959894287315, val_loss=0.612760796199871\n"
     ]
    },
    {
     "name": "stderr",
     "output_type": "stream",
     "text": [
      "Epoch 35: 100%|██████████| 704/704 [00:36<00:00, 19.08batch/s, accuracy=0.375, loss=1.87] \n"
     ]
    },
    {
     "name": "stdout",
     "output_type": "stream",
     "text": [
      "done epoch 35 with results: loss=0.7528034585782073, val_loss=0.6081765226170986\n"
     ]
    },
    {
     "name": "stderr",
     "output_type": "stream",
     "text": [
      "Epoch 36: 100%|██████████| 704/704 [00:37<00:00, 18.87batch/s, accuracy=0.5, loss=1.91]   \n"
     ]
    },
    {
     "name": "stdout",
     "output_type": "stream",
     "text": [
      "done epoch 36 with results: loss=0.7321520620449022, val_loss=0.5866210724734053\n"
     ]
    },
    {
     "name": "stderr",
     "output_type": "stream",
     "text": [
      "Epoch 37: 100%|██████████| 704/704 [00:36<00:00, 19.26batch/s, accuracy=0.75, loss=0.643] \n"
     ]
    },
    {
     "name": "stdout",
     "output_type": "stream",
     "text": [
      "done epoch 37 with results: loss=0.724062647797506, val_loss=0.5634767560264732\n"
     ]
    },
    {
     "name": "stderr",
     "output_type": "stream",
     "text": [
      "Epoch 38: 100%|██████████| 704/704 [00:36<00:00, 19.25batch/s, accuracy=0.75, loss=0.837] \n"
     ]
    },
    {
     "name": "stdout",
     "output_type": "stream",
     "text": [
      "done epoch 38 with results: loss=0.7047114909457212, val_loss=0.586465625446054\n"
     ]
    },
    {
     "name": "stderr",
     "output_type": "stream",
     "text": [
      "Epoch 39: 100%|██████████| 704/704 [00:36<00:00, 19.04batch/s, accuracy=0.75, loss=0.543] \n"
     ]
    },
    {
     "name": "stdout",
     "output_type": "stream",
     "text": [
      "done epoch 39 with results: loss=0.6968461096032776, val_loss=0.5545002708706674\n"
     ]
    },
    {
     "name": "stderr",
     "output_type": "stream",
     "text": [
      "Epoch 40: 100%|██████████| 704/704 [00:37<00:00, 19.00batch/s, accuracy=1, loss=0.239]    \n"
     ]
    },
    {
     "name": "stdout",
     "output_type": "stream",
     "text": [
      "done epoch 40 with results: loss=0.6842717418701134, val_loss=0.5556369902966898\n"
     ]
    },
    {
     "name": "stderr",
     "output_type": "stream",
     "text": [
      "Epoch 41: 100%|██████████| 704/704 [00:36<00:00, 19.19batch/s, accuracy=0.875, loss=0.231]\n"
     ]
    },
    {
     "name": "stdout",
     "output_type": "stream",
     "text": [
      "done epoch 41 with results: loss=0.674772525798868, val_loss=0.5534314988534662\n"
     ]
    },
    {
     "name": "stderr",
     "output_type": "stream",
     "text": [
      "Epoch 42: 100%|██████████| 704/704 [00:36<00:00, 19.08batch/s, accuracy=0.625, loss=0.912]\n"
     ]
    },
    {
     "name": "stdout",
     "output_type": "stream",
     "text": [
      "done epoch 42 with results: loss=0.6615482852370902, val_loss=0.541353933796098\n"
     ]
    },
    {
     "name": "stderr",
     "output_type": "stream",
     "text": [
      "Epoch 43: 100%|██████████| 704/704 [00:36<00:00, 19.13batch/s, accuracy=0.625, loss=1.36] \n"
     ]
    },
    {
     "name": "stdout",
     "output_type": "stream",
     "text": [
      "done epoch 43 with results: loss=0.6536539384079251, val_loss=0.5225148189671432\n"
     ]
    },
    {
     "name": "stderr",
     "output_type": "stream",
     "text": [
      "Epoch 44: 100%|██████████| 704/704 [00:36<00:00, 19.09batch/s, accuracy=0.375, loss=1.22] \n"
     ]
    },
    {
     "name": "stdout",
     "output_type": "stream",
     "text": [
      "done epoch 44 with results: loss=0.6361474189907312, val_loss=0.522677517767194\n"
     ]
    },
    {
     "name": "stderr",
     "output_type": "stream",
     "text": [
      "Epoch 45: 100%|██████████| 704/704 [00:37<00:00, 19.02batch/s, accuracy=0.75, loss=0.848] \n"
     ]
    },
    {
     "name": "stdout",
     "output_type": "stream",
     "text": [
      "done epoch 45 with results: loss=0.6294728953137316, val_loss=0.5280138548416428\n"
     ]
    },
    {
     "name": "stderr",
     "output_type": "stream",
     "text": [
      "Epoch 46: 100%|██████████| 704/704 [00:36<00:00, 19.06batch/s, accuracy=1, loss=0.277]    \n"
     ]
    },
    {
     "name": "stdout",
     "output_type": "stream",
     "text": [
      "done epoch 46 with results: loss=0.6173637561838735, val_loss=0.5060029618347748\n"
     ]
    },
    {
     "name": "stderr",
     "output_type": "stream",
     "text": [
      "Epoch 47: 100%|██████████| 704/704 [00:37<00:00, 19.02batch/s, accuracy=0.875, loss=0.371]\n"
     ]
    },
    {
     "name": "stdout",
     "output_type": "stream",
     "text": [
      "done epoch 47 with results: loss=0.6035819854587317, val_loss=0.5043257829509203\n"
     ]
    },
    {
     "name": "stderr",
     "output_type": "stream",
     "text": [
      "Epoch 48: 100%|██████████| 704/704 [00:36<00:00, 19.18batch/s, accuracy=0.625, loss=1.15] \n"
     ]
    },
    {
     "name": "stdout",
     "output_type": "stream",
     "text": [
      "done epoch 48 with results: loss=0.6002339204900305, val_loss=0.4935166217103789\n"
     ]
    },
    {
     "name": "stderr",
     "output_type": "stream",
     "text": [
      "Epoch 49: 100%|██████████| 704/704 [00:36<00:00, 19.08batch/s, accuracy=0.625, loss=0.457]\n"
     ]
    },
    {
     "name": "stdout",
     "output_type": "stream",
     "text": [
      "done epoch 49 with results: loss=0.5854713394391265, val_loss=0.49802826363829117\n"
     ]
    },
    {
     "name": "stderr",
     "output_type": "stream",
     "text": [
      "Epoch 50: 100%|██████████| 704/704 [00:36<00:00, 19.08batch/s, accuracy=0.625, loss=0.849]\n"
     ]
    },
    {
     "name": "stdout",
     "output_type": "stream",
     "text": [
      "done epoch 50 with results: loss=0.5836657564663752, val_loss=0.49117821907695336\n"
     ]
    }
   ],
   "source": [
    "model = FractalNet(data_shape=(3,32,32,10), n_columns=4, init_channels=64, dropout_probs=[0, .1, .2, .3, .4], gdrop_ratio=.5, p_ldrop=.15, gap=2)\n",
    "\n",
    "num_epochs = 50\n",
    "file_label = 'adam-50-cifar10-gap'\n",
    "\n",
    "model = model.to(DEVICE)\n",
    "\n",
    "if os.path.exists(f'{BASE_DIR}/checkpoints/savepoint-{file_label}.pt'):\n",
    "    model.load_state_dict(torch.load(f'{BASE_DIR}/checkpoints/savepoint-{file_label}.pt'))\n",
    "    history = torch.load(f'{BASE_DIR}/checkpoints/history-{file_label}.pt')\n",
    "else:\n",
    "    history = {\n",
    "        'loss': [],\n",
    "        'val_loss': []\n",
    "    }\n",
    "\n",
    "num_epochs_completed = len(history['loss'])\n",
    "\n",
    "criterion = nn.CrossEntropyLoss().to(DEVICE)\n",
    "optimizer = torch.optim.Adam(model.parameters())\n",
    "\n",
    "for epoch in range(num_epochs_completed+1, num_epochs+1):\n",
    "    with tqdm(train_dl, unit='batch') as tepoch:\n",
    "        epoch_losses = []\n",
    "        model.train()\n",
    "        for data, target in tepoch:\n",
    "            tepoch.set_description(f\"Epoch {epoch}\")\n",
    "\n",
    "            data, target = data.to(DEVICE), F.one_hot(target, 10).float().to(DEVICE)\n",
    "            optimizer.zero_grad()\n",
    "            out = model(data)\n",
    "            loss = criterion(out, target)\n",
    "            loss.backward()\n",
    "            optimizer.step()\n",
    "            epoch_losses.append(loss.item())\n",
    "\n",
    "            correct = (out.argmax(1) == target.argmax(1)).sum().item()\n",
    "            accuracy = correct / len(target)\n",
    "\n",
    "            tepoch.set_postfix(loss=loss.item(), accuracy=accuracy)\n",
    "    epoch_mean_loss = sum(epoch_losses) / len(epoch_losses)\n",
    "    history['loss'].append(epoch_mean_loss)\n",
    "\n",
    "    with torch.no_grad():\n",
    "        epoch_val_losses = []\n",
    "        model.eval()\n",
    "        for data, target in val_dl:\n",
    "            data, target = data.to(DEVICE), F.one_hot(target, 10).float().to(DEVICE)\n",
    "            out = model(data)\n",
    "            loss = criterion(out, target)\n",
    "            epoch_val_losses.append(loss.item())\n",
    "        epoch_mean_val_loss = sum(epoch_val_losses) / len(epoch_val_losses)\n",
    "        history['val_loss'].append(epoch_mean_val_loss)\n",
    "\n",
    "    torch.save(model.state_dict(), f'{BASE_DIR}/checkpoints/savepoint-{file_label}.pt')\n",
    "    torch.save(history, f'{BASE_DIR}/checkpoints/history-{file_label}.pt')\n",
    "\n",
    "    print(f'done epoch {epoch} with results: loss={epoch_mean_loss}, val_loss={epoch_mean_val_loss}')"
   ]
  },
  {
   "cell_type": "code",
   "execution_count": 8,
   "metadata": {},
   "outputs": [
    {
     "data": {
      "image/png": "[encoded data removed]",
      "text/plain": [
       "<Figure size 640x480 with 1 Axes>"
      ]
     },
     "metadata": {},
     "output_type": "display_data"
    }
   ],
   "source": [
    "plt.plot(history['loss'], label='train')\n",
    "plt.plot(history['val_loss'], label='val')\n",
    "\n",
    "plt.legend()\n",
    "\n",
    "plt.show()"
   ]
  },
  {
   "cell_type": "code",
   "execution_count": 9,
   "metadata": {},
   "outputs": [
    {
     "data": {
      "text/plain": [
       "(0.48298849696945995, 0.8359872611464968)"
      ]
     },
     "execution_count": 9,
     "metadata": {},
     "output_type": "execute_result"
    }
   ],
   "source": [
    "test_losses = []\n",
    "test_acc = []\n",
    "with torch.no_grad():\n",
    "    model = model.eval()\n",
    "    for data, label in test_dl:\n",
    "        data, label = data.to(DEVICE), F.one_hot(label, 10).float().to(DEVICE)\n",
    "        out = model(data)\n",
    "\n",
    "        loss = criterion(out, label)\n",
    "        test_losses.append(loss.item())\n",
    "\n",
    "        correct = (out.argmax(1) == label.argmax(1)).sum().item()\n",
    "        accuracy = correct / len(label)\n",
    "        test_acc.append(accuracy)\n",
    "\n",
    "sum(test_losses) / len(test_losses), sum(test_acc) / len(test_acc)"
   ]
  },
  {
   "cell_type": "markdown",
   "metadata": {
    "id": "NwBl4a_xPhyJ"
   },
   "source": [
    "# Trial with old model"
   ]
  },
  {
   "cell_type": "code",
   "execution_count": null,
   "metadata": {
    "id": "dfhVbLpqPhyJ",
    "outputId": "d6e76348-a3d4-4200-dcdd-0c2cab91a690",
    "scrolled": true
   },
   "outputs": [
    {
     "name": "stdout",
     "output_type": "stream",
     "text": [
      "[block 0] Channel in = 3, Channel out = 64\n",
      "[block 1] Channel in = 64, Channel out = 128\n",
      "[block 2] Channel in = 128, Channel out = 256\n",
      "[block 3] Channel in = 256, Channel out = 512\n",
      "[block 4] Channel in = 512, Channel out = 512\n",
      "Last featuremap size = 1\n",
      "Total layers = 40\n"
     ]
    },
    {
     "name": "stderr",
     "output_type": "stream",
     "text": [
      "Epoch 1: 100%|██████████| 704/704 [00:50<00:00, 13.91batch/s, accuracy=0.25, loss=2.41]  \n"
     ]
    },
    {
     "name": "stdout",
     "output_type": "stream",
     "text": [
      "done epoch 1 with results: loss=2.3446805131706325, val_loss=2.325948896287363\n"
     ]
    },
    {
     "name": "stderr",
     "output_type": "stream",
     "text": [
      "Epoch 2: 100%|██████████| 704/704 [00:50<00:00, 14.04batch/s, accuracy=0, loss=2.38]     \n"
     ]
    },
    {
     "name": "stdout",
     "output_type": "stream",
     "text": [
      "done epoch 2 with results: loss=2.176835782825947, val_loss=2.3049853300746483\n"
     ]
    },
    {
     "name": "stderr",
     "output_type": "stream",
     "text": [
      "Epoch 3: 100%|██████████| 704/704 [00:50<00:00, 13.90batch/s, accuracy=0.125, loss=2.18] \n"
     ]
    },
    {
     "name": "stdout",
     "output_type": "stream",
     "text": [
      "done epoch 3 with results: loss=2.1158294425430624, val_loss=1.9603921009015433\n"
     ]
    },
    {
     "name": "stderr",
     "output_type": "stream",
     "text": [
      "Epoch 4: 100%|██████████| 704/704 [00:50<00:00, 13.97batch/s, accuracy=0.25, loss=2.32]  \n"
     ]
    },
    {
     "name": "stdout",
     "output_type": "stream",
     "text": [
      "done epoch 4 with results: loss=1.9346314023502849, val_loss=1.987938957878306\n"
     ]
    },
    {
     "name": "stderr",
     "output_type": "stream",
     "text": [
      "Epoch 5: 100%|██████████| 704/704 [00:50<00:00, 14.04batch/s, accuracy=0, loss=2.19]    \n"
     ]
    },
    {
     "name": "stdout",
     "output_type": "stream",
     "text": [
      "done epoch 5 with results: loss=1.8785700687969273, val_loss=1.8898133130013188\n"
     ]
    },
    {
     "name": "stderr",
     "output_type": "stream",
     "text": [
      "Epoch 6: 100%|██████████| 704/704 [00:51<00:00, 13.75batch/s, accuracy=0.25, loss=1.9]  \n"
     ]
    },
    {
     "name": "stdout",
     "output_type": "stream",
     "text": [
      "done epoch 6 with results: loss=1.812962321056561, val_loss=1.811229230482367\n"
     ]
    },
    {
     "name": "stderr",
     "output_type": "stream",
     "text": [
      "Epoch 7: 100%|██████████| 704/704 [00:50<00:00, 14.04batch/s, accuracy=0.125, loss=1.37]\n"
     ]
    },
    {
     "name": "stdout",
     "output_type": "stream",
     "text": [
      "done epoch 7 with results: loss=1.726244762201201, val_loss=1.647724471514738\n"
     ]
    },
    {
     "name": "stderr",
     "output_type": "stream",
     "text": [
      "Epoch 8: 100%|██████████| 704/704 [00:50<00:00, 13.99batch/s, accuracy=0.5, loss=1.61]  \n"
     ]
    },
    {
     "name": "stdout",
     "output_type": "stream",
     "text": [
      "done epoch 8 with results: loss=1.6423692156306722, val_loss=1.5420612081696716\n"
     ]
    },
    {
     "name": "stderr",
     "output_type": "stream",
     "text": [
      "Epoch 9: 100%|██████████| 704/704 [00:50<00:00, 14.04batch/s, accuracy=0.125, loss=2.63]\n"
     ]
    },
    {
     "name": "stdout",
     "output_type": "stream",
     "text": [
      "done epoch 9 with results: loss=1.5755464842712337, val_loss=1.4924759894986697\n"
     ]
    },
    {
     "name": "stderr",
     "output_type": "stream",
     "text": [
      "Epoch 10: 100%|██████████| 704/704 [00:49<00:00, 14.33batch/s, accuracy=0.25, loss=2.2]  \n"
     ]
    },
    {
     "name": "stdout",
     "output_type": "stream",
     "text": [
      "done epoch 10 with results: loss=1.5075188675387339, val_loss=1.370739979080007\n"
     ]
    },
    {
     "name": "stderr",
     "output_type": "stream",
     "text": [
      "Epoch 11: 100%|██████████| 704/704 [00:50<00:00, 14.02batch/s, accuracy=0.375, loss=2.19]\n"
     ]
    },
    {
     "name": "stdout",
     "output_type": "stream",
     "text": [
      "done epoch 11 with results: loss=1.4548366225578568, val_loss=1.2932067792626876\n"
     ]
    },
    {
     "name": "stderr",
     "output_type": "stream",
     "text": [
      "Epoch 12: 100%|██████████| 704/704 [00:50<00:00, 13.84batch/s, accuracy=0, loss=2.58]    \n"
     ]
    },
    {
     "name": "stdout",
     "output_type": "stream",
     "text": [
      "done epoch 12 with results: loss=1.396958597173745, val_loss=1.2070841834514956\n"
     ]
    },
    {
     "name": "stderr",
     "output_type": "stream",
     "text": [
      "Epoch 13: 100%|██████████| 704/704 [00:50<00:00, 14.02batch/s, accuracy=0.25, loss=3.1]   \n"
     ]
    },
    {
     "name": "stdout",
     "output_type": "stream",
     "text": [
      "done epoch 13 with results: loss=1.33372484435412, val_loss=1.137497863437556\n"
     ]
    },
    {
     "name": "stderr",
     "output_type": "stream",
     "text": [
      "Epoch 14: 100%|██████████| 704/704 [00:50<00:00, 13.96batch/s, accuracy=0.75, loss=1.57]  \n"
     ]
    },
    {
     "name": "stdout",
     "output_type": "stream",
     "text": [
      "done epoch 14 with results: loss=1.285087082619694, val_loss=1.042551651031156\n"
     ]
    },
    {
     "name": "stderr",
     "output_type": "stream",
     "text": [
      "Epoch 15: 100%|██████████| 704/704 [00:50<00:00, 13.91batch/s, accuracy=0.25, loss=1.59]  \n"
     ]
    },
    {
     "name": "stdout",
     "output_type": "stream",
     "text": [
      "done epoch 15 with results: loss=1.234728820706633, val_loss=0.9923018586786487\n"
     ]
    },
    {
     "name": "stderr",
     "output_type": "stream",
     "text": [
      "Epoch 16: 100%|██████████| 704/704 [00:50<00:00, 13.81batch/s, accuracy=0.375, loss=1.95] \n"
     ]
    },
    {
     "name": "stdout",
     "output_type": "stream",
     "text": [
      "done epoch 16 with results: loss=1.2041507605463266, val_loss=0.9798310693306259\n"
     ]
    },
    {
     "name": "stderr",
     "output_type": "stream",
     "text": [
      "Epoch 17: 100%|██████████| 704/704 [00:50<00:00, 13.93batch/s, accuracy=0.375, loss=1.59] \n"
     ]
    },
    {
     "name": "stdout",
     "output_type": "stream",
     "text": [
      "done epoch 17 with results: loss=1.154817389408973, val_loss=0.941652298728122\n"
     ]
    },
    {
     "name": "stderr",
     "output_type": "stream",
     "text": [
      "Epoch 18: 100%|██████████| 704/704 [00:50<00:00, 14.08batch/s, accuracy=0.5, loss=1.07]   \n"
     ]
    },
    {
     "name": "stdout",
     "output_type": "stream",
     "text": [
      "done epoch 18 with results: loss=1.1188763794912533, val_loss=0.8760505922233002\n"
     ]
    },
    {
     "name": "stderr",
     "output_type": "stream",
     "text": [
      "Epoch 19: 100%|██████████| 704/704 [00:50<00:00, 13.91batch/s, accuracy=0.5, loss=1.71]   \n"
     ]
    },
    {
     "name": "stdout",
     "output_type": "stream",
     "text": [
      "done epoch 19 with results: loss=1.0762343933297829, val_loss=0.8452018137219586\n"
     ]
    },
    {
     "name": "stderr",
     "output_type": "stream",
     "text": [
      "Epoch 20: 100%|██████████| 704/704 [00:50<00:00, 14.01batch/s, accuracy=0.75, loss=1.11]  \n"
     ]
    },
    {
     "name": "stdout",
     "output_type": "stream",
     "text": [
      "done epoch 20 with results: loss=1.0422168650918386, val_loss=0.7933750099773649\n"
     ]
    },
    {
     "name": "stderr",
     "output_type": "stream",
     "text": [
      "Epoch 21: 100%|██████████| 704/704 [00:50<00:00, 13.95batch/s, accuracy=0.75, loss=0.472] \n"
     ]
    },
    {
     "name": "stdout",
     "output_type": "stream",
     "text": [
      "done epoch 21 with results: loss=1.0135752872817896, val_loss=0.8266463739962517\n"
     ]
    },
    {
     "name": "stderr",
     "output_type": "stream",
     "text": [
      "Epoch 22: 100%|██████████| 704/704 [00:51<00:00, 13.64batch/s, accuracy=0.75, loss=0.948] \n"
     ]
    },
    {
     "name": "stdout",
     "output_type": "stream",
     "text": [
      "done epoch 22 with results: loss=0.989997677335685, val_loss=0.7539785149731214\n"
     ]
    },
    {
     "name": "stderr",
     "output_type": "stream",
     "text": [
      "Epoch 23: 100%|██████████| 704/704 [00:51<00:00, 13.70batch/s, accuracy=0.625, loss=1.52] \n"
     ]
    },
    {
     "name": "stdout",
     "output_type": "stream",
     "text": [
      "done epoch 23 with results: loss=0.9571867393837734, val_loss=0.7535150458541098\n"
     ]
    },
    {
     "name": "stderr",
     "output_type": "stream",
     "text": [
      "Epoch 24: 100%|██████████| 704/704 [00:50<00:00, 13.91batch/s, accuracy=0.625, loss=1.27] \n"
     ]
    },
    {
     "name": "stdout",
     "output_type": "stream",
     "text": [
      "done epoch 24 with results: loss=0.9350957488641143, val_loss=0.7413837245748013\n"
     ]
    },
    {
     "name": "stderr",
     "output_type": "stream",
     "text": [
      "Epoch 25: 100%|██████████| 704/704 [00:50<00:00, 14.03batch/s, accuracy=0.5, loss=1.4]    \n"
     ]
    },
    {
     "name": "stdout",
     "output_type": "stream",
     "text": [
      "done epoch 25 with results: loss=0.9256594615395773, val_loss=0.7214588696443582\n"
     ]
    },
    {
     "name": "stderr",
     "output_type": "stream",
     "text": [
      "Epoch 26: 100%|██████████| 704/704 [00:50<00:00, 13.98batch/s, accuracy=0.75, loss=1.34]  \n"
     ]
    },
    {
     "name": "stdout",
     "output_type": "stream",
     "text": [
      "done epoch 26 with results: loss=0.9041579247198321, val_loss=0.7084875574594811\n"
     ]
    },
    {
     "name": "stderr",
     "output_type": "stream",
     "text": [
      "Epoch 27: 100%|██████████| 704/704 [00:49<00:00, 14.35batch/s, accuracy=0.75, loss=0.863] \n"
     ]
    },
    {
     "name": "stdout",
     "output_type": "stream",
     "text": [
      "done epoch 27 with results: loss=0.8752918898720633, val_loss=0.6584800168683257\n"
     ]
    },
    {
     "name": "stderr",
     "output_type": "stream",
     "text": [
      "Epoch 28: 100%|██████████| 704/704 [00:49<00:00, 14.21batch/s, accuracy=0.75, loss=1.03]  \n"
     ]
    },
    {
     "name": "stdout",
     "output_type": "stream",
     "text": [
      "done epoch 28 with results: loss=0.8574260079555891, val_loss=0.6379165294804151\n"
     ]
    },
    {
     "name": "stderr",
     "output_type": "stream",
     "text": [
      "Epoch 29: 100%|██████████| 704/704 [00:50<00:00, 13.92batch/s, accuracy=0.25, loss=1.92]  \n"
     ]
    },
    {
     "name": "stdout",
     "output_type": "stream",
     "text": [
      "done epoch 29 with results: loss=0.8407696462236345, val_loss=0.6440472508533092\n"
     ]
    },
    {
     "name": "stderr",
     "output_type": "stream",
     "text": [
      "Epoch 30: 100%|██████████| 704/704 [00:50<00:00, 13.83batch/s, accuracy=0.5, loss=1.31]   \n"
     ]
    },
    {
     "name": "stdout",
     "output_type": "stream",
     "text": [
      "done epoch 30 with results: loss=0.8283965025435794, val_loss=0.6481346265424656\n"
     ]
    },
    {
     "name": "stderr",
     "output_type": "stream",
     "text": [
      "Epoch 31: 100%|██████████| 704/704 [00:49<00:00, 14.09batch/s, accuracy=0.75, loss=1.11]  \n"
     ]
    },
    {
     "name": "stdout",
     "output_type": "stream",
     "text": [
      "done epoch 31 with results: loss=0.8037424446506933, val_loss=0.6279564315005194\n"
     ]
    },
    {
     "name": "stderr",
     "output_type": "stream",
     "text": [
      "Epoch 32: 100%|██████████| 704/704 [00:50<00:00, 13.95batch/s, accuracy=0.5, loss=2.5]    \n"
     ]
    },
    {
     "name": "stdout",
     "output_type": "stream",
     "text": [
      "done epoch 32 with results: loss=0.8199776813218539, val_loss=0.604925580039809\n"
     ]
    },
    {
     "name": "stderr",
     "output_type": "stream",
     "text": [
      "Epoch 33: 100%|██████████| 704/704 [00:49<00:00, 14.12batch/s, accuracy=0.625, loss=1.68] \n"
     ]
    },
    {
     "name": "stdout",
     "output_type": "stream",
     "text": [
      "done epoch 33 with results: loss=0.7701324672776867, val_loss=0.5968769068204904\n"
     ]
    },
    {
     "name": "stderr",
     "output_type": "stream",
     "text": [
      "Epoch 34: 100%|██████████| 704/704 [00:52<00:00, 13.47batch/s, accuracy=0.5, loss=2.58]   \n"
     ]
    },
    {
     "name": "stdout",
     "output_type": "stream",
     "text": [
      "done epoch 34 with results: loss=0.7583731555549259, val_loss=0.5994408330585383\n"
     ]
    },
    {
     "name": "stderr",
     "output_type": "stream",
     "text": [
      "Epoch 35: 100%|██████████| 704/704 [00:49<00:00, 14.12batch/s, accuracy=0.625, loss=1.56] \n"
     ]
    },
    {
     "name": "stdout",
     "output_type": "stream",
     "text": [
      "done epoch 35 with results: loss=0.7424856849353422, val_loss=0.5733513722691355\n"
     ]
    },
    {
     "name": "stderr",
     "output_type": "stream",
     "text": [
      "Epoch 36: 100%|██████████| 704/704 [00:50<00:00, 14.07batch/s, accuracy=0.625, loss=1.13] \n"
     ]
    },
    {
     "name": "stdout",
     "output_type": "stream",
     "text": [
      "done epoch 36 with results: loss=0.7260217079046097, val_loss=0.5655210086061985\n"
     ]
    },
    {
     "name": "stderr",
     "output_type": "stream",
     "text": [
      "Epoch 37: 100%|██████████| 704/704 [00:50<00:00, 14.00batch/s, accuracy=1, loss=0.184]    \n"
     ]
    },
    {
     "name": "stdout",
     "output_type": "stream",
     "text": [
      "done epoch 37 with results: loss=0.7168604266745123, val_loss=0.5726556876037694\n"
     ]
    },
    {
     "name": "stderr",
     "output_type": "stream",
     "text": [
      "Epoch 38: 100%|██████████| 704/704 [00:51<00:00, 13.72batch/s, accuracy=0.625, loss=0.746]\n"
     ]
    },
    {
     "name": "stdout",
     "output_type": "stream",
     "text": [
      "done epoch 38 with results: loss=0.7027377720329572, val_loss=0.552818589572665\n"
     ]
    },
    {
     "name": "stderr",
     "output_type": "stream",
     "text": [
      "Epoch 39: 100%|██████████| 704/704 [00:49<00:00, 14.25batch/s, accuracy=0.75, loss=0.415] \n"
     ]
    },
    {
     "name": "stdout",
     "output_type": "stream",
     "text": [
      "done epoch 39 with results: loss=0.6938154329545796, val_loss=0.5393421819692925\n"
     ]
    },
    {
     "name": "stderr",
     "output_type": "stream",
     "text": [
      "Epoch 40: 100%|██████████| 704/704 [00:50<00:00, 13.98batch/s, accuracy=0.75, loss=1.38]  \n"
     ]
    },
    {
     "name": "stdout",
     "output_type": "stream",
     "text": [
      "done epoch 40 with results: loss=0.6865924165414815, val_loss=0.5458610220045983\n"
     ]
    },
    {
     "name": "stderr",
     "output_type": "stream",
     "text": [
      "Epoch 41: 100%|██████████| 704/704 [00:50<00:00, 13.97batch/s, accuracy=0.875, loss=0.427]\n"
     ]
    },
    {
     "name": "stdout",
     "output_type": "stream",
     "text": [
      "done epoch 41 with results: loss=0.6674203795634888, val_loss=0.5039301377874387\n"
     ]
    },
    {
     "name": "stderr",
     "output_type": "stream",
     "text": [
      "Epoch 42: 100%|██████████| 704/704 [00:50<00:00, 13.95batch/s, accuracy=1, loss=0.301]    \n"
     ]
    },
    {
     "name": "stdout",
     "output_type": "stream",
     "text": [
      "done epoch 42 with results: loss=0.6575979158620943, val_loss=0.5177660882472992\n"
     ]
    },
    {
     "name": "stderr",
     "output_type": "stream",
     "text": [
      "Epoch 43: 100%|██████████| 704/704 [00:50<00:00, 13.83batch/s, accuracy=0.875, loss=0.387]\n"
     ]
    },
    {
     "name": "stdout",
     "output_type": "stream",
     "text": [
      "done epoch 43 with results: loss=0.645274961790578, val_loss=0.4966462190392651\n"
     ]
    },
    {
     "name": "stderr",
     "output_type": "stream",
     "text": [
      "Epoch 44: 100%|██████████| 704/704 [00:51<00:00, 13.72batch/s, accuracy=0.75, loss=1.05]  \n"
     ]
    },
    {
     "name": "stdout",
     "output_type": "stream",
     "text": [
      "done epoch 44 with results: loss=0.6406086079183627, val_loss=0.5200832912439033\n"
     ]
    },
    {
     "name": "stderr",
     "output_type": "stream",
     "text": [
      "Epoch 45: 100%|██████████| 704/704 [00:50<00:00, 13.99batch/s, accuracy=0.875, loss=0.221]\n"
     ]
    },
    {
     "name": "stdout",
     "output_type": "stream",
     "text": [
      "done epoch 45 with results: loss=0.6190373116723177, val_loss=0.4884037335839453\n"
     ]
    },
    {
     "name": "stderr",
     "output_type": "stream",
     "text": [
      "Epoch 46: 100%|██████████| 704/704 [00:50<00:00, 13.98batch/s, accuracy=0.5, loss=1]      \n"
     ]
    },
    {
     "name": "stdout",
     "output_type": "stream",
     "text": [
      "done epoch 46 with results: loss=0.6079418042843993, val_loss=0.4872019060804874\n"
     ]
    },
    {
     "name": "stderr",
     "output_type": "stream",
     "text": [
      "Epoch 47: 100%|██████████| 704/704 [00:51<00:00, 13.79batch/s, accuracy=0.375, loss=1.99] \n"
     ]
    },
    {
     "name": "stdout",
     "output_type": "stream",
     "text": [
      "done epoch 47 with results: loss=0.5964638426137919, val_loss=0.49502958112125156\n"
     ]
    },
    {
     "name": "stderr",
     "output_type": "stream",
     "text": [
      "Epoch 48: 100%|██████████| 704/704 [00:50<00:00, 13.95batch/s, accuracy=0.75, loss=0.491] \n"
     ]
    },
    {
     "name": "stdout",
     "output_type": "stream",
     "text": [
      "done epoch 48 with results: loss=0.5958042047833177, val_loss=0.4795804691465595\n"
     ]
    },
    {
     "name": "stderr",
     "output_type": "stream",
     "text": [
      "Epoch 49: 100%|██████████| 704/704 [00:50<00:00, 13.97batch/s, accuracy=0.875, loss=0.481]\n"
     ]
    },
    {
     "name": "stdout",
     "output_type": "stream",
     "text": [
      "done epoch 49 with results: loss=0.5868088358335874, val_loss=0.4678383068287674\n"
     ]
    },
    {
     "name": "stderr",
     "output_type": "stream",
     "text": [
      "Epoch 50: 100%|██████████| 704/704 [00:49<00:00, 14.31batch/s, accuracy=0.5, loss=2.49]   \n"
     ]
    },
    {
     "name": "stdout",
     "output_type": "stream",
     "text": [
      "done epoch 50 with results: loss=0.5762503052723001, val_loss=0.4604154587546481\n"
     ]
    }
   ],
   "source": [
    "model = FractalNet(data_shape=(3,32,32,10), n_columns=4, init_channels=64, dropout_probs=[0, .1, .2, .3, .4], gdrop_ratio=.5, p_ldrop=.15)\n",
    "\n",
    "num_epochs = 50\n",
    "file_label = 'adam-50-cifar10-old'\n",
    "\n",
    "model = model.to(DEVICE)\n",
    "\n",
    "if os.path.exists(f'{BASE_DIR}/checkpoints/savepoint-{file_label}.pt'):\n",
    "    model.load_state_dict(torch.load(f'{BASE_DIR}/checkpoints/savepoint-{file_label}.pt'))\n",
    "    history = torch.load(f'{BASE_DIR}/checkpoints/history-{file_label}.pt')\n",
    "else:\n",
    "    history = {\n",
    "        'loss': [],\n",
    "        'val_loss': []\n",
    "    }\n",
    "\n",
    "num_epochs_completed = len(history['loss'])\n",
    "\n",
    "criterion = nn.CrossEntropyLoss().to(DEVICE)\n",
    "optimizer = torch.optim.Adam(model.parameters())\n",
    "\n",
    "for epoch in range(num_epochs_completed+1, num_epochs+1):\n",
    "    with tqdm(train_dl, unit='batch') as tepoch:\n",
    "        epoch_losses = []\n",
    "        model.train()\n",
    "        for data, target in tepoch:\n",
    "            tepoch.set_description(f\"Epoch {epoch}\")\n",
    "\n",
    "            data, target = data.to(DEVICE), F.one_hot(target, 10).float().to(DEVICE)\n",
    "            optimizer.zero_grad()\n",
    "            out = model(data)\n",
    "            loss = criterion(out, target)\n",
    "            loss.backward()\n",
    "            optimizer.step()\n",
    "            epoch_losses.append(loss.item())\n",
    "\n",
    "            correct = (out.argmax(1) == target.argmax(1)).sum().item()\n",
    "            accuracy = correct / len(target)\n",
    "\n",
    "            tepoch.set_postfix(loss=loss.item(), accuracy=accuracy)\n",
    "    epoch_mean_loss = sum(epoch_losses) / len(epoch_losses)\n",
    "    history['loss'].append(epoch_mean_loss)\n",
    "\n",
    "    with torch.no_grad():\n",
    "        epoch_val_losses = []\n",
    "        model.eval()\n",
    "        for data, target in val_dl:\n",
    "            data, target = data.to(DEVICE), F.one_hot(target, 10).float().to(DEVICE)\n",
    "            out = model(data)\n",
    "            loss = criterion(out, target)\n",
    "            epoch_val_losses.append(loss.item())\n",
    "        epoch_mean_val_loss = sum(epoch_val_losses) / len(epoch_val_losses)\n",
    "        history['val_loss'].append(epoch_mean_val_loss)\n",
    "\n",
    "    torch.save(model.state_dict(), f'{BASE_DIR}/checkpoints/savepoint-{file_label}.pt')\n",
    "    torch.save(history, f'{BASE_DIR}/checkpoints/history-{file_label}.pt')\n",
    "\n",
    "    print(f'done epoch {epoch} with results: loss={epoch_mean_loss}, val_loss={epoch_mean_val_loss}')"
   ]
  },
  {
   "cell_type": "code",
   "execution_count": null,
   "metadata": {
    "id": "jLX7WOiVPhyK",
    "outputId": "fb66d959-07c8-41fe-8532-b0acad5ca893"
   },
   "outputs": [
    {
     "data": {
      "image/png": "[encoded data removed]",
      "text/plain": [
       "<Figure size 640x480 with 1 Axes>"
      ]
     },
     "metadata": {},
     "output_type": "display_data"
    }
   ],
   "source": [
    "plt.plot(history['loss'], label='train')\n",
    "plt.plot(history['val_loss'], label='val')\n",
    "\n",
    "plt.legend()\n",
    "\n",
    "plt.show()"
   ]
  },
  {
   "cell_type": "code",
   "execution_count": null,
   "metadata": {
    "id": "NHU1ouuxPhyK",
    "outputId": "a29fbb15-a19e-4b28-8ebf-c349ba5779d6"
   },
   "outputs": [
    {
     "data": {
      "text/plain": [
       "(0.47532299920252175, 0.839171974522293)"
      ]
     },
     "execution_count": 21,
     "metadata": {},
     "output_type": "execute_result"
    }
   ],
   "source": [
    "test_losses = []\n",
    "test_acc = []\n",
    "with torch.no_grad():\n",
    "    model = model.eval()\n",
    "    for data, label in test_dl:\n",
    "        data, label = data.to(DEVICE), F.one_hot(label, 10).float().to(DEVICE)\n",
    "        out = model(data)\n",
    "\n",
    "        loss = criterion(out, label)\n",
    "        test_losses.append(loss.item())\n",
    "\n",
    "        correct = (out.argmax(1) == label.argmax(1)).sum().item()\n",
    "        accuracy = correct / len(label)\n",
    "        test_acc.append(accuracy)\n",
    "\n",
    "sum(test_losses) / len(test_losses), sum(test_acc) / len(test_acc)"
   ]
  },
  {
   "cell_type": "code",
   "execution_count": null,
   "metadata": {
    "id": "DHhoTVB7PhyL"
   },
   "outputs": [],
   "source": []
  }
 ],
 "metadata": {
  "accelerator": "GPU",
  "colab": {
   "gpuType": "V100",
   "provenance": [],
   "toc_visible": true
  },
  "kernelspec": {
   "display_name": "Python 3 (ipykernel)",
   "language": "python",
   "name": "python3"
  },
  "language_info": {
   "codemirror_mode": {
    "name": "ipython",
    "version": 3
   },
   "file_extension": ".py",
   "mimetype": "text/x-python",
   "name": "python",
   "nbconvert_exporter": "python",
   "pygments_lexer": "ipython3",
   "version": "3.10.13"
  }
 },
 "nbformat": 4,
 "nbformat_minor": 4
}
