{
 "cells": [
  {
   "cell_type": "markdown",
   "metadata": {
    "id": "7CSxSzWKWsWm"
   },
   "source": [
    "# Imports and setup"
   ]
  },
  {
   "cell_type": "code",
   "execution_count": 13,
   "metadata": {
    "executionInfo": {
     "elapsed": 9064,
     "status": "ok",
     "timestamp": 1702535146228,
     "user": {
      "displayName": "Viktor Sabov",
      "userId": "15810640844580849012"
     },
     "user_tz": -120
    },
    "id": "rhW-x02MLsbQ"
   },
   "outputs": [],
   "source": [
    "import torch\n",
    "from torch import nn\n",
    "from torch.nn import functional as F\n",
    "import numpy as np\n",
    "import torchvision\n",
    "from torchvision import transforms\n",
    "from tqdm import tqdm\n",
    "import math\n",
    "import sys\n",
    "import os\n",
    "import matplotlib.pyplot as plt"
   ]
  },
  {
   "cell_type": "code",
   "execution_count": 2,
   "metadata": {
    "colab": {
     "base_uri": "https://localhost:8080/"
    },
    "executionInfo": {
     "elapsed": 20662,
     "status": "ok",
     "timestamp": 1702535166871,
     "user": {
      "displayName": "Viktor Sabov",
      "userId": "15810640844580849012"
     },
     "user_tz": -120
    },
    "id": "1b6dQUvZVWHm",
    "outputId": "cdb69b22-25af-4fa4-a6d9-16f883e4efee"
   },
   "outputs": [],
   "source": [
    "if 'google.colab' in sys.modules:\n",
    "    from google.colab import drive\n",
    "    drive.mount('/content/drive')\n",
    "    BASE_DIR = '/content/drive/MyDrive/master/ml'\n",
    "else:\n",
    "    BASE_DIR = '.'\n",
    "\n",
    "DEVICE = 'cuda' if torch.cuda.is_available() else 'cpu'"
   ]
  },
  {
   "cell_type": "markdown",
   "metadata": {
    "id": "UE15btjTWvuy"
   },
   "source": [
    "# Model code"
   ]
  },
  {
   "cell_type": "code",
   "execution_count": 3,
   "metadata": {
    "executionInfo": {
     "elapsed": 7,
     "status": "ok",
     "timestamp": 1702535166871,
     "user": {
      "displayName": "Viktor Sabov",
      "userId": "15810640844580849012"
     },
     "user_tz": -120
    },
    "id": "45nK47seLfij"
   },
   "outputs": [],
   "source": [
    "class Flatten(nn.Module):\n",
    "    def forward(self, x):\n",
    "        return x.view(x.size(0), -1)\n",
    "\n",
    "\n",
    "class ConvBlock(nn.Module):\n",
    "    def __init__(self, C_in, C_out, kernel_size=3, stride=1, padding=1, dropout=None,\n",
    "                 pad_type='zero', dropout_pos='CDBR'):\n",
    "        super().__init__()\n",
    "        self.dropout_pos = dropout_pos\n",
    "        if pad_type == 'zero':\n",
    "            self.pad = nn.ZeroPad2d(padding)\n",
    "        elif pad_type == 'reflect':\n",
    "            # [!] the paper used reflect padding - just for data augmentation?\n",
    "            self.pad = nn.ReflectionPad2d(padding)\n",
    "        else:\n",
    "            raise ValueError(pad_type)\n",
    "\n",
    "        self.conv = nn.Conv2d(C_in, C_out, kernel_size, stride, padding=0, bias=False)\n",
    "        if dropout is not None and dropout > 0.:\n",
    "            self.dropout = nn.Dropout2d(p=dropout, inplace=True)\n",
    "        else:\n",
    "            self.dropout = None\n",
    "        self.bn = nn.BatchNorm2d(C_out)\n",
    "\n",
    "    def forward(self, x):\n",
    "        out = self.pad(x)\n",
    "        out = self.conv(out)\n",
    "        if self.dropout_pos == 'CDBR' and self.dropout:\n",
    "            out = self.dropout(out)\n",
    "        out = self.bn(out)\n",
    "        out = F.relu_(out)\n",
    "        if self.dropout_pos == 'CBRD' and self.dropout:\n",
    "            out = self.dropout(out)\n",
    "\n",
    "        return out\n",
    "\n",
    "\n",
    "class FractalBlock(nn.Module):\n",
    "    def __init__(self, n_columns, C_in, C_out, p_ldrop, p_dropout, pad_type='zero',\n",
    "                 doubling=False, dropout_pos='CDBR'):\n",
    "        super().__init__()\n",
    "\n",
    "        self.n_columns = n_columns\n",
    "        self.p_ldrop = p_ldrop\n",
    "        self.dropout_pos = dropout_pos\n",
    "        if dropout_pos == 'FD' and p_dropout > 0.:\n",
    "            self.dropout = nn.Dropout2d(p=p_dropout)\n",
    "            p_dropout = 0.\n",
    "        else:\n",
    "            self.dropout = None\n",
    "\n",
    "        if doubling:\n",
    "            self.doubler = ConvBlock(C_in, C_out, 1, padding=0)\n",
    "        else:\n",
    "            self.doubler = None\n",
    "\n",
    "        self.columns = nn.ModuleList([nn.ModuleList() for _ in range(n_columns)])\n",
    "        self.max_depth = 2 ** (n_columns-1)\n",
    "\n",
    "        dist = self.max_depth\n",
    "        self.count = np.zeros([self.max_depth], dtype=np.int32)\n",
    "        for col in self.columns:\n",
    "            for i in range(self.max_depth):\n",
    "                if (i+1) % dist == 0:\n",
    "                    first_block = (i+1 == dist) # first block in this column\n",
    "                    if first_block and not doubling:\n",
    "                        # if doubling, always input channel size is C_out.\n",
    "                        cur_C_in = C_in\n",
    "                    else:\n",
    "                        cur_C_in = C_out\n",
    "\n",
    "                    module = ConvBlock(cur_C_in, C_out, dropout=p_dropout, pad_type=pad_type,\n",
    "                                       dropout_pos=dropout_pos)\n",
    "                    self.count[i] += 1\n",
    "                else:\n",
    "                    module = None\n",
    "\n",
    "                col.append(module)\n",
    "\n",
    "            dist //= 2\n",
    "\n",
    "    def drop_mask(self, B, global_cols, n_cols):\n",
    "        # global drop mask\n",
    "        GB = global_cols.shape[0]\n",
    "        # calc gdrop cols / samples\n",
    "        gdrop_cols = global_cols - (self.n_columns - n_cols)\n",
    "        gdrop_indices = np.where(gdrop_cols >= 0)[0]\n",
    "        # gen gdrop mask\n",
    "        gdrop_mask = np.zeros([n_cols, GB], dtype=np.float32)\n",
    "        gdrop_mask[gdrop_cols[gdrop_indices], gdrop_indices] = 1.\n",
    "\n",
    "        # local drop mask\n",
    "        LB = B - GB\n",
    "        ldrop_mask = np.random.binomial(1, 1.-self.p_ldrop, [n_cols, LB]).astype(np.float32)\n",
    "        alive_count = ldrop_mask.sum(axis=0)\n",
    "        # resurrect all-dead case\n",
    "        dead_indices = np.where(alive_count == 0.)[0]\n",
    "        ldrop_mask[np.random.randint(0, n_cols, size=dead_indices.shape), dead_indices] = 1.\n",
    "\n",
    "        drop_mask = np.concatenate((gdrop_mask, ldrop_mask), axis=1)\n",
    "        return torch.from_numpy(drop_mask)\n",
    "\n",
    "    def join(self, outs, global_cols):\n",
    "        n_cols = len(outs)\n",
    "        out = torch.stack(outs) # [n_cols, B, C, H, W]\n",
    "\n",
    "        if self.training:\n",
    "            mask = self.drop_mask(out.size(1), global_cols, n_cols).to(out.device) # [n_cols, B]\n",
    "            mask = mask.view(*mask.size(), 1, 1, 1) # unsqueeze to [n_cols, B, 1, 1, 1]\n",
    "            n_alive = mask.sum(dim=0) # [B, 1, 1, 1]\n",
    "            masked_out = out * mask # [n_cols, B, C, H, W]\n",
    "            n_alive[n_alive == 0.] = 1. # all-dead cases\n",
    "            out = masked_out.sum(dim=0) / n_alive # [B, C, H, W] / [B, 1, 1, 1]\n",
    "        else:\n",
    "            out = out.mean(dim=0) # no drop\n",
    "\n",
    "        return out\n",
    "\n",
    "    def forward(self, x, global_cols, deepest=False):\n",
    "        out = self.doubler(x) if self.doubler else x\n",
    "        outs = [out] * self.n_columns\n",
    "        for i in range(self.max_depth):\n",
    "            st = self.n_columns - self.count[i]\n",
    "            cur_outs = [] # outs of current depth\n",
    "            if deepest:\n",
    "                st = self.n_columns - 1 # last column only\n",
    "\n",
    "            for c in range(st, self.n_columns):\n",
    "                cur_in = outs[c] # current input\n",
    "                cur_module = self.columns[c][i] # current module\n",
    "                cur_outs.append(cur_module(cur_in))\n",
    "\n",
    "            # join\n",
    "            #print(\"join in depth = {}, # of in_join = {}\".format(i, len(cur_out)))\n",
    "            joined = self.join(cur_outs, global_cols)\n",
    "\n",
    "            for c in range(st, self.n_columns):\n",
    "                outs[c] = joined\n",
    "\n",
    "        if self.dropout_pos == 'FD' and self.dropout:\n",
    "            outs[-1] = self.dropout(outs[-1])\n",
    "\n",
    "        return outs[-1] # for deepest case\n",
    "\n",
    "\n",
    "class FractalNet(nn.Module):\n",
    "    def __init__(self, data_shape, n_columns, init_channels, p_ldrop, dropout_probs,\n",
    "                 gdrop_ratio, gap=0, init='xavier', pad_type='zero', doubling=False,\n",
    "                 consist_gdrop=True, dropout_pos='CDBR'):\n",
    "        super().__init__()\n",
    "        assert dropout_pos in ['CDBR', 'CBRD', 'FD']\n",
    "\n",
    "        self.B = len(dropout_probs) # the number of blocks\n",
    "        self.consist_gdrop = consist_gdrop\n",
    "        self.gdrop_ratio = gdrop_ratio\n",
    "        self.n_columns = n_columns\n",
    "        C_in, H, W, n_classes = data_shape\n",
    "\n",
    "        assert H == W\n",
    "        size = H\n",
    "\n",
    "        layers = nn.ModuleList()\n",
    "        C_out = init_channels\n",
    "        total_layers = 0\n",
    "        for b, p_dropout in enumerate(dropout_probs):\n",
    "            print(\"[block {}] Channel in = {}, Channel out = {}\".format(b, C_in, C_out))\n",
    "            fb = FractalBlock(n_columns, C_in, C_out, p_ldrop, p_dropout,\n",
    "                              pad_type=pad_type, doubling=doubling, dropout_pos=dropout_pos)\n",
    "            layers.append(fb)\n",
    "            if gap == 0 or b < self.B-1:\n",
    "                # Originally, every pool is max-pool in the paper (No GAP).\n",
    "                layers.append(nn.MaxPool2d(2))\n",
    "            elif gap == 1:\n",
    "                # last layer and gap == 1\n",
    "                layers.append(nn.AdaptiveAvgPool2d(1)) # average pooling\n",
    "\n",
    "            size //= 2\n",
    "            total_layers += fb.max_depth\n",
    "            C_in = C_out\n",
    "            if b < self.B-2:\n",
    "                C_out *= 2 # doubling except for last block\n",
    "\n",
    "        print(\"Last featuremap size = {}\".format(size))\n",
    "        print(\"Total layers = {}\".format(total_layers))\n",
    "\n",
    "        if gap == 2:\n",
    "            layers.append(nn.Conv2d(C_out, n_classes, 1, padding=0)) # 1x1 conv\n",
    "            layers.append(nn.AdaptiveAvgPool2d(1)) # gap\n",
    "            layers.append(Flatten())\n",
    "        else:\n",
    "            layers.append(Flatten())\n",
    "            layers.append(nn.Linear(C_out * size * size, n_classes)) # fc layer\n",
    "\n",
    "        self.layers = layers\n",
    "\n",
    "        # initialization\n",
    "        if init != 'torch':\n",
    "            initialize_ = {\n",
    "                'xavier': nn.init.xavier_uniform_,\n",
    "                'he': nn.init.kaiming_uniform_\n",
    "            }[init]\n",
    "\n",
    "            for n, p in self.named_parameters():\n",
    "                if p.dim() > 1: # weights only\n",
    "                    initialize_(p)\n",
    "                else: # bn w/b or bias\n",
    "                    if 'bn.weight' in n:\n",
    "                        nn.init.ones_(p)\n",
    "                    else:\n",
    "                        nn.init.zeros_(p)\n",
    "\n",
    "    def forward(self, x, deepest=False):\n",
    "        if deepest:\n",
    "            assert self.training is False\n",
    "        GB = int(x.size(0) * self.gdrop_ratio)\n",
    "        out = x\n",
    "        global_cols = None\n",
    "        for layer in self.layers:\n",
    "            if isinstance(layer, FractalBlock):\n",
    "                if not self.consist_gdrop or global_cols is None:\n",
    "                    global_cols = np.random.randint(0, self.n_columns, size=[GB])\n",
    "\n",
    "                out = layer(out, global_cols, deepest=deepest)\n",
    "            else:\n",
    "                out = layer(out)\n",
    "\n",
    "        return out"
   ]
  },
  {
   "cell_type": "markdown",
   "metadata": {
    "id": "co6Lj35CW0eh"
   },
   "source": [
    "# Load the data"
   ]
  },
  {
   "cell_type": "code",
   "execution_count": 4,
   "metadata": {
    "colab": {
     "base_uri": "https://localhost:8080/"
    },
    "executionInfo": {
     "elapsed": 10061,
     "status": "ok",
     "timestamp": 1702535176925,
     "user": {
      "displayName": "Viktor Sabov",
      "userId": "15810640844580849012"
     },
     "user_tz": -120
    },
    "id": "X0QyX2FWLnrQ",
    "outputId": "cdc43f90-0ab2-495c-82b0-220e13dfd06a"
   },
   "outputs": [
    {
     "name": "stdout",
     "output_type": "stream",
     "text": [
      "Files already downloaded and verified\n",
      "Files already downloaded and verified\n"
     ]
    }
   ],
   "source": [
    "transform = transforms.Compose(\n",
    "    [transforms.ToTensor(),\n",
    "     transforms.Normalize((0.5, 0.5, 0.5), (0.5, 0.5, 0.5))])\n",
    "\n",
    "batch_size = 100\n",
    "\n",
    "train_val_ds = torchvision.datasets.CIFAR10(root='./data', train=True,\n",
    "                                        download=True, transform=transform)\n",
    "\n",
    "train_ds, val_ds = torch.utils.data.random_split(train_val_ds, [.9, .1])\n",
    "\n",
    "train_dl = torch.utils.data.DataLoader(train_ds, batch_size=batch_size,\n",
    "                                          shuffle=True, num_workers=2)\n",
    "val_dl = torch.utils.data.DataLoader(val_ds, batch_size=batch_size,\n",
    "                                          shuffle=True, num_workers=2)\n",
    "\n",
    "test_ds = torchvision.datasets.CIFAR10(root='./data', train=False,\n",
    "                                       download=True, transform=transform)\n",
    "test_dl = torch.utils.data.DataLoader(test_ds, batch_size=batch_size,\n",
    "                                         shuffle=False, num_workers=2)\n",
    "\n",
    "classes = ('plane', 'car', 'bird', 'cat',\n",
    "           'deer', 'dog', 'frog', 'horse', 'ship', 'truck')"
   ]
  },
  {
   "cell_type": "markdown",
   "metadata": {
    "id": "YygxXsosW7TJ"
   },
   "source": [
    "# Create the model"
   ]
  },
  {
   "cell_type": "code",
   "execution_count": 5,
   "metadata": {
    "colab": {
     "base_uri": "https://localhost:8080/"
    },
    "executionInfo": {
     "elapsed": 1992,
     "status": "ok",
     "timestamp": 1702535178896,
     "user": {
      "displayName": "Viktor Sabov",
      "userId": "15810640844580849012"
     },
     "user_tz": -120
    },
    "id": "Uoqfm7fiL8sc",
    "outputId": "ac840681-6072-4606-bd43-ec94a760279c"
   },
   "outputs": [
    {
     "name": "stdout",
     "output_type": "stream",
     "text": [
      "[block 0] Channel in = 3, Channel out = 64\n",
      "[block 1] Channel in = 64, Channel out = 128\n",
      "[block 2] Channel in = 128, Channel out = 256\n",
      "[block 3] Channel in = 256, Channel out = 512\n",
      "[block 4] Channel in = 512, Channel out = 512\n",
      "Last featuremap size = 1\n",
      "Total layers = 40\n"
     ]
    }
   ],
   "source": [
    "model = FractalNet(data_shape=(3,32,32,10), n_columns=4, init_channels=64, dropout_probs=[0, .1, .2, .3, .4], gdrop_ratio=.5, p_ldrop=.15)"
   ]
  },
  {
   "cell_type": "markdown",
   "metadata": {
    "id": "6Zx4MbQoXCXu"
   },
   "source": [
    "# Main training loop"
   ]
  },
  {
   "cell_type": "code",
   "execution_count": 6,
   "metadata": {
    "colab": {
     "base_uri": "https://localhost:8080/",
     "height": 1000
    },
    "executionInfo": {
     "elapsed": 8727819,
     "status": "error",
     "timestamp": 1702543906709,
     "user": {
      "displayName": "Viktor Sabov",
      "userId": "15810640844580849012"
     },
     "user_tz": -120
    },
    "id": "VaNMawAjMe4O",
    "outputId": "54da4922-2e7b-49d4-fab1-6353c894877a",
    "scrolled": true
   },
   "outputs": [],
   "source": [
    "num_epochs = 400\n",
    "file_label = 'sgd-400-cifar10'\n",
    "\n",
    "model = model.to(DEVICE)\n",
    "\n",
    "if os.path.exists(f'{BASE_DIR}/checkpoints/savepoint-{file_label}.pt'):\n",
    "    model.load_state_dict(torch.load(f'{BASE_DIR}/checkpoints/savepoint-{file_label}.pt'))\n",
    "    history = torch.load(f'{BASE_DIR}/checkpoints/history-{file_label}.pt')\n",
    "else:\n",
    "    history = {\n",
    "        'loss': [],\n",
    "        'val_loss': []\n",
    "    }\n",
    "\n",
    "milestones = [sum([int(num_epochs/(2**p)) for p in range(1, pow)]) for pow in range(2, int(math.log2(num_epochs)) + 1)]\n",
    "orig_len = len(milestones)\n",
    "num_epochs_completed = len(history['loss'])\n",
    "milestones = list(filter(lambda y: y > 0, [x - num_epochs_completed for x in milestones]))\n",
    "filtered_len = len(milestones)\n",
    "\n",
    "criterion = nn.CrossEntropyLoss().to(DEVICE)\n",
    "optimizer = torch.optim.SGD(model.parameters(), 0.02, 0.9)\n",
    "scheduler = torch.optim.lr_scheduler.MultiStepLR(optimizer, milestones)\n",
    "\n",
    "for epoch in range(num_epochs_completed, num_epochs+1):\n",
    "    with tqdm(train_dl, unit='batch') as tepoch:\n",
    "        epoch_losses = []\n",
    "        model.train()\n",
    "        for data, target in tepoch:\n",
    "            tepoch.set_description(f\"Epoch {epoch}\")\n",
    "\n",
    "            data, target = data.to(DEVICE), F.one_hot(target, 10).float().to(DEVICE)\n",
    "            optimizer.zero_grad()\n",
    "            out = model(data)\n",
    "            loss = criterion(out, target)\n",
    "            loss.backward()\n",
    "            optimizer.step()\n",
    "            epoch_losses.append(loss.item())\n",
    "\n",
    "            correct = (out.argmax(1) == target.argmax(1)).sum().item()\n",
    "            accuracy = correct / len(target)\n",
    "\n",
    "            tepoch.set_postfix(loss=loss.item(), accuracy=accuracy)\n",
    "    epoch_mean_loss = sum(epoch_losses) / len(epoch_losses)\n",
    "    history['loss'].append(epoch_mean_loss)\n",
    "\n",
    "    with torch.no_grad():\n",
    "        epoch_val_losses = []\n",
    "        model.eval()\n",
    "        for data, target in val_dl:\n",
    "            data, target = data.to(DEVICE), F.one_hot(target, 10).float().to(DEVICE)\n",
    "            out = model(data)\n",
    "            loss = criterion(out, target)\n",
    "            epoch_val_losses.append(loss.item())\n",
    "        epoch_mean_val_loss = sum(epoch_val_losses) / len(epoch_val_losses)\n",
    "        history['val_loss'].append(epoch_mean_val_loss)\n",
    "\n",
    "    torch.save(model.state_dict(), f'{BASE_DIR}/checkpoints/savepoint-{file_label}.pt')\n",
    "    torch.save(history, f'{BASE_DIR}/checkpoints/history-{file_label}.pt')\n",
    "\n",
    "    scheduler.step()\n",
    "\n",
    "    print(f'done epoch {epoch} with results: loss={epoch_mean_loss}, val_loss={epoch_mean_val_loss}')"
   ]
  },
  {
   "cell_type": "code",
   "execution_count": 14,
   "metadata": {
    "executionInfo": {
     "elapsed": 7,
     "status": "aborted",
     "timestamp": 1702543906710,
     "user": {
      "displayName": "Viktor Sabov",
      "userId": "15810640844580849012"
     },
     "user_tz": -120
    },
    "id": "tQQQ1aq7RAmU",
    "scrolled": true
   },
   "outputs": [
    {
     "data": {
      "text/plain": [
       "[<matplotlib.lines.Line2D at 0x7f4ddd53da20>]"
      ]
     },
     "execution_count": 14,
     "metadata": {},
     "output_type": "execute_result"
    },
    {
     "data": {
      "image/png": "[encoded data removed]",
      "text/plain": [
       "<Figure size 640x480 with 1 Axes>"
      ]
     },
     "metadata": {},
     "output_type": "display_data"
    }
   ],
   "source": [
    "plt.plot(history['loss'])"
   ]
  },
  {
   "cell_type": "code",
   "execution_count": null,
   "metadata": {},
   "outputs": [],
   "source": [
    "test_losses = []\n",
    "with torch.no_grad():\n",
    "    model = model.eval()\n",
    "    for data, label in test_dl:\n",
    "        data, label = data.to(DEVICE), F.one_hot(label, 10).float().to(DEVICE)\n",
    "        out = model(data)\n",
    "        loss = criterion(out, label)\n",
    "        test_lo.append(loss.item())\n"
   ]
  }
 ],
 "metadata": {
  "accelerator": "GPU",
  "colab": {
   "authorship_tag": "ABX9TyNGEulNM+k1D76tI5+PYE2G",
   "gpuType": "V100",
   "provenance": []
  },
  "kernelspec": {
   "display_name": "Python 3 (ipykernel)",
   "language": "python",
   "name": "python3"
  },
  "language_info": {
   "codemirror_mode": {
    "name": "ipython",
    "version": 3
   },
   "file_extension": ".py",
   "mimetype": "text/x-python",
   "name": "python",
   "nbconvert_exporter": "python",
   "pygments_lexer": "ipython3",
   "version": "3.10.13"
  }
 },
 "nbformat": 4,
 "nbformat_minor": 4
}
